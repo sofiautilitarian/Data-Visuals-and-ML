{
  "nbformat": 4,
  "nbformat_minor": 0,
  "metadata": {
    "colab": {
      "provenance": []
    },
    "kernelspec": {
      "name": "python3",
      "display_name": "Python 3"
    },
    "language_info": {
      "name": "python"
    }
  },
  "cells": [
    {
      "cell_type": "code",
      "execution_count": null,
      "metadata": {
        "colab": {
          "base_uri": "https://localhost:8080/"
        },
        "id": "gF_EbjVvoJQU",
        "outputId": "388af15e-0899-4463-95c5-703b79304b7f"
      },
      "outputs": [
        {
          "output_type": "stream",
          "name": "stdout",
          "text": [
            "<class 'pandas.core.frame.DataFrame'>\n",
            "RangeIndex: 1338 entries, 0 to 1337\n",
            "Data columns (total 8 columns):\n",
            " #   Column    Non-Null Count  Dtype  \n",
            "---  ------    --------------  -----  \n",
            " 0   Id        1338 non-null   int64  \n",
            " 1   age       1338 non-null   int64  \n",
            " 2   sex       1338 non-null   object \n",
            " 3   bmi       1338 non-null   float64\n",
            " 4   children  1338 non-null   int64  \n",
            " 5   smoker    1338 non-null   object \n",
            " 6   region    1338 non-null   object \n",
            " 7   charges   1338 non-null   float64\n",
            "dtypes: float64(2), int64(3), object(3)\n",
            "memory usage: 83.8+ KB\n"
          ]
        }
      ],
      "source": [
        "import numpy as np\n",
        "import pandas as pd\n",
        "import matplotlib.pyplot as plt\n",
        "import seaborn as sns\n",
        "\n",
        "df = pd.read_csv(\"medical_cost.csv\")\n",
        "df.info()"
      ]
    },
    {
      "cell_type": "code",
      "source": [
        "df1 = df.drop(['sex', 'region', 'smoker', 'charges'], axis=1)\n",
        "df1"
      ],
      "metadata": {
        "colab": {
          "base_uri": "https://localhost:8080/",
          "height": 423
        },
        "id": "9x4uNHRYqjQs",
        "outputId": "5531c8ea-e060-4681-c870-9d09b1b081d0"
      },
      "execution_count": null,
      "outputs": [
        {
          "output_type": "execute_result",
          "data": {
            "text/plain": [
              "        Id  age     bmi  children\n",
              "0        1   19  27.900         0\n",
              "1        2   18  33.770         1\n",
              "2        3   28  33.000         3\n",
              "3        4   33  22.705         0\n",
              "4        5   32  28.880         0\n",
              "...    ...  ...     ...       ...\n",
              "1333  1334   50  30.970         3\n",
              "1334  1335   18  31.920         0\n",
              "1335  1336   18  36.850         0\n",
              "1336  1337   21  25.800         0\n",
              "1337  1338   61  29.070         0\n",
              "\n",
              "[1338 rows x 4 columns]"
            ],
            "text/html": [
              "\n",
              "  <div id=\"df-4d391dfc-d4eb-42b5-a751-bc67f609b5c7\" class=\"colab-df-container\">\n",
              "    <div>\n",
              "<style scoped>\n",
              "    .dataframe tbody tr th:only-of-type {\n",
              "        vertical-align: middle;\n",
              "    }\n",
              "\n",
              "    .dataframe tbody tr th {\n",
              "        vertical-align: top;\n",
              "    }\n",
              "\n",
              "    .dataframe thead th {\n",
              "        text-align: right;\n",
              "    }\n",
              "</style>\n",
              "<table border=\"1\" class=\"dataframe\">\n",
              "  <thead>\n",
              "    <tr style=\"text-align: right;\">\n",
              "      <th></th>\n",
              "      <th>Id</th>\n",
              "      <th>age</th>\n",
              "      <th>bmi</th>\n",
              "      <th>children</th>\n",
              "    </tr>\n",
              "  </thead>\n",
              "  <tbody>\n",
              "    <tr>\n",
              "      <th>0</th>\n",
              "      <td>1</td>\n",
              "      <td>19</td>\n",
              "      <td>27.900</td>\n",
              "      <td>0</td>\n",
              "    </tr>\n",
              "    <tr>\n",
              "      <th>1</th>\n",
              "      <td>2</td>\n",
              "      <td>18</td>\n",
              "      <td>33.770</td>\n",
              "      <td>1</td>\n",
              "    </tr>\n",
              "    <tr>\n",
              "      <th>2</th>\n",
              "      <td>3</td>\n",
              "      <td>28</td>\n",
              "      <td>33.000</td>\n",
              "      <td>3</td>\n",
              "    </tr>\n",
              "    <tr>\n",
              "      <th>3</th>\n",
              "      <td>4</td>\n",
              "      <td>33</td>\n",
              "      <td>22.705</td>\n",
              "      <td>0</td>\n",
              "    </tr>\n",
              "    <tr>\n",
              "      <th>4</th>\n",
              "      <td>5</td>\n",
              "      <td>32</td>\n",
              "      <td>28.880</td>\n",
              "      <td>0</td>\n",
              "    </tr>\n",
              "    <tr>\n",
              "      <th>...</th>\n",
              "      <td>...</td>\n",
              "      <td>...</td>\n",
              "      <td>...</td>\n",
              "      <td>...</td>\n",
              "    </tr>\n",
              "    <tr>\n",
              "      <th>1333</th>\n",
              "      <td>1334</td>\n",
              "      <td>50</td>\n",
              "      <td>30.970</td>\n",
              "      <td>3</td>\n",
              "    </tr>\n",
              "    <tr>\n",
              "      <th>1334</th>\n",
              "      <td>1335</td>\n",
              "      <td>18</td>\n",
              "      <td>31.920</td>\n",
              "      <td>0</td>\n",
              "    </tr>\n",
              "    <tr>\n",
              "      <th>1335</th>\n",
              "      <td>1336</td>\n",
              "      <td>18</td>\n",
              "      <td>36.850</td>\n",
              "      <td>0</td>\n",
              "    </tr>\n",
              "    <tr>\n",
              "      <th>1336</th>\n",
              "      <td>1337</td>\n",
              "      <td>21</td>\n",
              "      <td>25.800</td>\n",
              "      <td>0</td>\n",
              "    </tr>\n",
              "    <tr>\n",
              "      <th>1337</th>\n",
              "      <td>1338</td>\n",
              "      <td>61</td>\n",
              "      <td>29.070</td>\n",
              "      <td>0</td>\n",
              "    </tr>\n",
              "  </tbody>\n",
              "</table>\n",
              "<p>1338 rows × 4 columns</p>\n",
              "</div>\n",
              "    <div class=\"colab-df-buttons\">\n",
              "\n",
              "  <div class=\"colab-df-container\">\n",
              "    <button class=\"colab-df-convert\" onclick=\"convertToInteractive('df-4d391dfc-d4eb-42b5-a751-bc67f609b5c7')\"\n",
              "            title=\"Convert this dataframe to an interactive table.\"\n",
              "            style=\"display:none;\">\n",
              "\n",
              "  <svg xmlns=\"http://www.w3.org/2000/svg\" height=\"24px\" viewBox=\"0 -960 960 960\">\n",
              "    <path d=\"M120-120v-720h720v720H120Zm60-500h600v-160H180v160Zm220 220h160v-160H400v160Zm0 220h160v-160H400v160ZM180-400h160v-160H180v160Zm440 0h160v-160H620v160ZM180-180h160v-160H180v160Zm440 0h160v-160H620v160Z\"/>\n",
              "  </svg>\n",
              "    </button>\n",
              "\n",
              "  <style>\n",
              "    .colab-df-container {\n",
              "      display:flex;\n",
              "      gap: 12px;\n",
              "    }\n",
              "\n",
              "    .colab-df-convert {\n",
              "      background-color: #E8F0FE;\n",
              "      border: none;\n",
              "      border-radius: 50%;\n",
              "      cursor: pointer;\n",
              "      display: none;\n",
              "      fill: #1967D2;\n",
              "      height: 32px;\n",
              "      padding: 0 0 0 0;\n",
              "      width: 32px;\n",
              "    }\n",
              "\n",
              "    .colab-df-convert:hover {\n",
              "      background-color: #E2EBFA;\n",
              "      box-shadow: 0px 1px 2px rgba(60, 64, 67, 0.3), 0px 1px 3px 1px rgba(60, 64, 67, 0.15);\n",
              "      fill: #174EA6;\n",
              "    }\n",
              "\n",
              "    .colab-df-buttons div {\n",
              "      margin-bottom: 4px;\n",
              "    }\n",
              "\n",
              "    [theme=dark] .colab-df-convert {\n",
              "      background-color: #3B4455;\n",
              "      fill: #D2E3FC;\n",
              "    }\n",
              "\n",
              "    [theme=dark] .colab-df-convert:hover {\n",
              "      background-color: #434B5C;\n",
              "      box-shadow: 0px 1px 3px 1px rgba(0, 0, 0, 0.15);\n",
              "      filter: drop-shadow(0px 1px 2px rgba(0, 0, 0, 0.3));\n",
              "      fill: #FFFFFF;\n",
              "    }\n",
              "  </style>\n",
              "\n",
              "    <script>\n",
              "      const buttonEl =\n",
              "        document.querySelector('#df-4d391dfc-d4eb-42b5-a751-bc67f609b5c7 button.colab-df-convert');\n",
              "      buttonEl.style.display =\n",
              "        google.colab.kernel.accessAllowed ? 'block' : 'none';\n",
              "\n",
              "      async function convertToInteractive(key) {\n",
              "        const element = document.querySelector('#df-4d391dfc-d4eb-42b5-a751-bc67f609b5c7');\n",
              "        const dataTable =\n",
              "          await google.colab.kernel.invokeFunction('convertToInteractive',\n",
              "                                                    [key], {});\n",
              "        if (!dataTable) return;\n",
              "\n",
              "        const docLinkHtml = 'Like what you see? Visit the ' +\n",
              "          '<a target=\"_blank\" href=https://colab.research.google.com/notebooks/data_table.ipynb>data table notebook</a>'\n",
              "          + ' to learn more about interactive tables.';\n",
              "        element.innerHTML = '';\n",
              "        dataTable['output_type'] = 'display_data';\n",
              "        await google.colab.output.renderOutput(dataTable, element);\n",
              "        const docLink = document.createElement('div');\n",
              "        docLink.innerHTML = docLinkHtml;\n",
              "        element.appendChild(docLink);\n",
              "      }\n",
              "    </script>\n",
              "  </div>\n",
              "\n",
              "\n",
              "<div id=\"df-6606c126-73b1-4fec-b381-dc2f56bf9040\">\n",
              "  <button class=\"colab-df-quickchart\" onclick=\"quickchart('df-6606c126-73b1-4fec-b381-dc2f56bf9040')\"\n",
              "            title=\"Suggest charts.\"\n",
              "            style=\"display:none;\">\n",
              "\n",
              "<svg xmlns=\"http://www.w3.org/2000/svg\" height=\"24px\"viewBox=\"0 0 24 24\"\n",
              "     width=\"24px\">\n",
              "    <g>\n",
              "        <path d=\"M19 3H5c-1.1 0-2 .9-2 2v14c0 1.1.9 2 2 2h14c1.1 0 2-.9 2-2V5c0-1.1-.9-2-2-2zM9 17H7v-7h2v7zm4 0h-2V7h2v10zm4 0h-2v-4h2v4z\"/>\n",
              "    </g>\n",
              "</svg>\n",
              "  </button>\n",
              "\n",
              "<style>\n",
              "  .colab-df-quickchart {\n",
              "    background-color: #E8F0FE;\n",
              "    border: none;\n",
              "    border-radius: 50%;\n",
              "    cursor: pointer;\n",
              "    display: none;\n",
              "    fill: #1967D2;\n",
              "    height: 32px;\n",
              "    padding: 0 0 0 0;\n",
              "    width: 32px;\n",
              "  }\n",
              "\n",
              "  .colab-df-quickchart:hover {\n",
              "    background-color: #E2EBFA;\n",
              "    box-shadow: 0px 1px 2px rgba(60, 64, 67, 0.3), 0px 1px 3px 1px rgba(60, 64, 67, 0.15);\n",
              "    fill: #174EA6;\n",
              "  }\n",
              "\n",
              "  [theme=dark] .colab-df-quickchart {\n",
              "    background-color: #3B4455;\n",
              "    fill: #D2E3FC;\n",
              "  }\n",
              "\n",
              "  [theme=dark] .colab-df-quickchart:hover {\n",
              "    background-color: #434B5C;\n",
              "    box-shadow: 0px 1px 3px 1px rgba(0, 0, 0, 0.15);\n",
              "    filter: drop-shadow(0px 1px 2px rgba(0, 0, 0, 0.3));\n",
              "    fill: #FFFFFF;\n",
              "  }\n",
              "</style>\n",
              "\n",
              "  <script>\n",
              "    async function quickchart(key) {\n",
              "      const charts = await google.colab.kernel.invokeFunction(\n",
              "          'suggestCharts', [key], {});\n",
              "    }\n",
              "    (() => {\n",
              "      let quickchartButtonEl =\n",
              "        document.querySelector('#df-6606c126-73b1-4fec-b381-dc2f56bf9040 button');\n",
              "      quickchartButtonEl.style.display =\n",
              "        google.colab.kernel.accessAllowed ? 'block' : 'none';\n",
              "    })();\n",
              "  </script>\n",
              "</div>\n",
              "    </div>\n",
              "  </div>\n"
            ]
          },
          "metadata": {},
          "execution_count": 19
        }
      ]
    },
    {
      "cell_type": "code",
      "source": [
        "plt.figure(figsize=(12, 6))\n",
        "sns.pairplot(df,x_vars=['bmi', 'age', 'children'],y_vars= ['charges'],size = 5,kind = 'scatter')\n",
        "plt.title('charge prediction')\n",
        "plt.show()"
      ],
      "metadata": {
        "colab": {
          "base_uri": "https://localhost:8080/",
          "height": 463
        },
        "id": "-iI43USPrb1n",
        "outputId": "714d2dce-e053-4a60-acd2-30e55ee44546"
      },
      "execution_count": null,
      "outputs": [
        {
          "output_type": "stream",
          "name": "stderr",
          "text": [
            "/usr/local/lib/python3.10/dist-packages/seaborn/axisgrid.py:2095: UserWarning: The `size` parameter has been renamed to `height`; please update your code.\n",
            "  warnings.warn(msg, UserWarning)\n"
          ]
        },
        {
          "output_type": "display_data",
          "data": {
            "text/plain": [
              "<Figure size 1200x600 with 0 Axes>"
            ]
          },
          "metadata": {}
        },
        {
          "output_type": "display_data",
          "data": {
            "text/plain": [
              "<Figure size 1500x500 with 3 Axes>"
            ],
            "image/png": "[encoded data removed]"
          },
          "metadata": {}
        }
      ]
    },
    {
      "cell_type": "code",
      "source": [
        "X = df1\n",
        "Y = df['charges']\n",
        "X"
      ],
      "metadata": {
        "colab": {
          "base_uri": "https://localhost:8080/",
          "height": 423
        },
        "id": "gOqPElNntInY",
        "outputId": "d15f07b8-b409-4e65-d319-ab744bac4de4"
      },
      "execution_count": null,
      "outputs": [
        {
          "output_type": "execute_result",
          "data": {
            "text/plain": [
              "        Id  age     bmi  children\n",
              "0        1   19  27.900         0\n",
              "1        2   18  33.770         1\n",
              "2        3   28  33.000         3\n",
              "3        4   33  22.705         0\n",
              "4        5   32  28.880         0\n",
              "...    ...  ...     ...       ...\n",
              "1333  1334   50  30.970         3\n",
              "1334  1335   18  31.920         0\n",
              "1335  1336   18  36.850         0\n",
              "1336  1337   21  25.800         0\n",
              "1337  1338   61  29.070         0\n",
              "\n",
              "[1338 rows x 4 columns]"
            ],
            "text/html": [
              "\n",
              "  <div id=\"df-abe9f19b-010b-4102-97e8-b285c2e7550d\" class=\"colab-df-container\">\n",
              "    <div>\n",
              "<style scoped>\n",
              "    .dataframe tbody tr th:only-of-type {\n",
              "        vertical-align: middle;\n",
              "    }\n",
              "\n",
              "    .dataframe tbody tr th {\n",
              "        vertical-align: top;\n",
              "    }\n",
              "\n",
              "    .dataframe thead th {\n",
              "        text-align: right;\n",
              "    }\n",
              "</style>\n",
              "<table border=\"1\" class=\"dataframe\">\n",
              "  <thead>\n",
              "    <tr style=\"text-align: right;\">\n",
              "      <th></th>\n",
              "      <th>Id</th>\n",
              "      <th>age</th>\n",
              "      <th>bmi</th>\n",
              "      <th>children</th>\n",
              "    </tr>\n",
              "  </thead>\n",
              "  <tbody>\n",
              "    <tr>\n",
              "      <th>0</th>\n",
              "      <td>1</td>\n",
              "      <td>19</td>\n",
              "      <td>27.900</td>\n",
              "      <td>0</td>\n",
              "    </tr>\n",
              "    <tr>\n",
              "      <th>1</th>\n",
              "      <td>2</td>\n",
              "      <td>18</td>\n",
              "      <td>33.770</td>\n",
              "      <td>1</td>\n",
              "    </tr>\n",
              "    <tr>\n",
              "      <th>2</th>\n",
              "      <td>3</td>\n",
              "      <td>28</td>\n",
              "      <td>33.000</td>\n",
              "      <td>3</td>\n",
              "    </tr>\n",
              "    <tr>\n",
              "      <th>3</th>\n",
              "      <td>4</td>\n",
              "      <td>33</td>\n",
              "      <td>22.705</td>\n",
              "      <td>0</td>\n",
              "    </tr>\n",
              "    <tr>\n",
              "      <th>4</th>\n",
              "      <td>5</td>\n",
              "      <td>32</td>\n",
              "      <td>28.880</td>\n",
              "      <td>0</td>\n",
              "    </tr>\n",
              "    <tr>\n",
              "      <th>...</th>\n",
              "      <td>...</td>\n",
              "      <td>...</td>\n",
              "      <td>...</td>\n",
              "      <td>...</td>\n",
              "    </tr>\n",
              "    <tr>\n",
              "      <th>1333</th>\n",
              "      <td>1334</td>\n",
              "      <td>50</td>\n",
              "      <td>30.970</td>\n",
              "      <td>3</td>\n",
              "    </tr>\n",
              "    <tr>\n",
              "      <th>1334</th>\n",
              "      <td>1335</td>\n",
              "      <td>18</td>\n",
              "      <td>31.920</td>\n",
              "      <td>0</td>\n",
              "    </tr>\n",
              "    <tr>\n",
              "      <th>1335</th>\n",
              "      <td>1336</td>\n",
              "      <td>18</td>\n",
              "      <td>36.850</td>\n",
              "      <td>0</td>\n",
              "    </tr>\n",
              "    <tr>\n",
              "      <th>1336</th>\n",
              "      <td>1337</td>\n",
              "      <td>21</td>\n",
              "      <td>25.800</td>\n",
              "      <td>0</td>\n",
              "    </tr>\n",
              "    <tr>\n",
              "      <th>1337</th>\n",
              "      <td>1338</td>\n",
              "      <td>61</td>\n",
              "      <td>29.070</td>\n",
              "      <td>0</td>\n",
              "    </tr>\n",
              "  </tbody>\n",
              "</table>\n",
              "<p>1338 rows × 4 columns</p>\n",
              "</div>\n",
              "    <div class=\"colab-df-buttons\">\n",
              "\n",
              "  <div class=\"colab-df-container\">\n",
              "    <button class=\"colab-df-convert\" onclick=\"convertToInteractive('df-abe9f19b-010b-4102-97e8-b285c2e7550d')\"\n",
              "            title=\"Convert this dataframe to an interactive table.\"\n",
              "            style=\"display:none;\">\n",
              "\n",
              "  <svg xmlns=\"http://www.w3.org/2000/svg\" height=\"24px\" viewBox=\"0 -960 960 960\">\n",
              "    <path d=\"M120-120v-720h720v720H120Zm60-500h600v-160H180v160Zm220 220h160v-160H400v160Zm0 220h160v-160H400v160ZM180-400h160v-160H180v160Zm440 0h160v-160H620v160ZM180-180h160v-160H180v160Zm440 0h160v-160H620v160Z\"/>\n",
              "  </svg>\n",
              "    </button>\n",
              "\n",
              "  <style>\n",
              "    .colab-df-container {\n",
              "      display:flex;\n",
              "      gap: 12px;\n",
              "    }\n",
              "\n",
              "    .colab-df-convert {\n",
              "      background-color: #E8F0FE;\n",
              "      border: none;\n",
              "      border-radius: 50%;\n",
              "      cursor: pointer;\n",
              "      display: none;\n",
              "      fill: #1967D2;\n",
              "      height: 32px;\n",
              "      padding: 0 0 0 0;\n",
              "      width: 32px;\n",
              "    }\n",
              "\n",
              "    .colab-df-convert:hover {\n",
              "      background-color: #E2EBFA;\n",
              "      box-shadow: 0px 1px 2px rgba(60, 64, 67, 0.3), 0px 1px 3px 1px rgba(60, 64, 67, 0.15);\n",
              "      fill: #174EA6;\n",
              "    }\n",
              "\n",
              "    .colab-df-buttons div {\n",
              "      margin-bottom: 4px;\n",
              "    }\n",
              "\n",
              "    [theme=dark] .colab-df-convert {\n",
              "      background-color: #3B4455;\n",
              "      fill: #D2E3FC;\n",
              "    }\n",
              "\n",
              "    [theme=dark] .colab-df-convert:hover {\n",
              "      background-color: #434B5C;\n",
              "      box-shadow: 0px 1px 3px 1px rgba(0, 0, 0, 0.15);\n",
              "      filter: drop-shadow(0px 1px 2px rgba(0, 0, 0, 0.3));\n",
              "      fill: #FFFFFF;\n",
              "    }\n",
              "  </style>\n",
              "\n",
              "    <script>\n",
              "      const buttonEl =\n",
              "        document.querySelector('#df-abe9f19b-010b-4102-97e8-b285c2e7550d button.colab-df-convert');\n",
              "      buttonEl.style.display =\n",
              "        google.colab.kernel.accessAllowed ? 'block' : 'none';\n",
              "\n",
              "      async function convertToInteractive(key) {\n",
              "        const element = document.querySelector('#df-abe9f19b-010b-4102-97e8-b285c2e7550d');\n",
              "        const dataTable =\n",
              "          await google.colab.kernel.invokeFunction('convertToInteractive',\n",
              "                                                    [key], {});\n",
              "        if (!dataTable) return;\n",
              "\n",
              "        const docLinkHtml = 'Like what you see? Visit the ' +\n",
              "          '<a target=\"_blank\" href=https://colab.research.google.com/notebooks/data_table.ipynb>data table notebook</a>'\n",
              "          + ' to learn more about interactive tables.';\n",
              "        element.innerHTML = '';\n",
              "        dataTable['output_type'] = 'display_data';\n",
              "        await google.colab.output.renderOutput(dataTable, element);\n",
              "        const docLink = document.createElement('div');\n",
              "        docLink.innerHTML = docLinkHtml;\n",
              "        element.appendChild(docLink);\n",
              "      }\n",
              "    </script>\n",
              "  </div>\n",
              "\n",
              "\n",
              "<div id=\"df-7bea6312-6633-463a-a59d-1549161559ea\">\n",
              "  <button class=\"colab-df-quickchart\" onclick=\"quickchart('df-7bea6312-6633-463a-a59d-1549161559ea')\"\n",
              "            title=\"Suggest charts.\"\n",
              "            style=\"display:none;\">\n",
              "\n",
              "<svg xmlns=\"http://www.w3.org/2000/svg\" height=\"24px\"viewBox=\"0 0 24 24\"\n",
              "     width=\"24px\">\n",
              "    <g>\n",
              "        <path d=\"M19 3H5c-1.1 0-2 .9-2 2v14c0 1.1.9 2 2 2h14c1.1 0 2-.9 2-2V5c0-1.1-.9-2-2-2zM9 17H7v-7h2v7zm4 0h-2V7h2v10zm4 0h-2v-4h2v4z\"/>\n",
              "    </g>\n",
              "</svg>\n",
              "  </button>\n",
              "\n",
              "<style>\n",
              "  .colab-df-quickchart {\n",
              "    background-color: #E8F0FE;\n",
              "    border: none;\n",
              "    border-radius: 50%;\n",
              "    cursor: pointer;\n",
              "    display: none;\n",
              "    fill: #1967D2;\n",
              "    height: 32px;\n",
              "    padding: 0 0 0 0;\n",
              "    width: 32px;\n",
              "  }\n",
              "\n",
              "  .colab-df-quickchart:hover {\n",
              "    background-color: #E2EBFA;\n",
              "    box-shadow: 0px 1px 2px rgba(60, 64, 67, 0.3), 0px 1px 3px 1px rgba(60, 64, 67, 0.15);\n",
              "    fill: #174EA6;\n",
              "  }\n",
              "\n",
              "  [theme=dark] .colab-df-quickchart {\n",
              "    background-color: #3B4455;\n",
              "    fill: #D2E3FC;\n",
              "  }\n",
              "\n",
              "  [theme=dark] .colab-df-quickchart:hover {\n",
              "    background-color: #434B5C;\n",
              "    box-shadow: 0px 1px 3px 1px rgba(0, 0, 0, 0.15);\n",
              "    filter: drop-shadow(0px 1px 2px rgba(0, 0, 0, 0.3));\n",
              "    fill: #FFFFFF;\n",
              "  }\n",
              "</style>\n",
              "\n",
              "  <script>\n",
              "    async function quickchart(key) {\n",
              "      const charts = await google.colab.kernel.invokeFunction(\n",
              "          'suggestCharts', [key], {});\n",
              "    }\n",
              "    (() => {\n",
              "      let quickchartButtonEl =\n",
              "        document.querySelector('#df-7bea6312-6633-463a-a59d-1549161559ea button');\n",
              "      quickchartButtonEl.style.display =\n",
              "        google.colab.kernel.accessAllowed ? 'block' : 'none';\n",
              "    })();\n",
              "  </script>\n",
              "</div>\n",
              "    </div>\n",
              "  </div>\n"
            ]
          },
          "metadata": {},
          "execution_count": 28
        }
      ]
    },
    {
      "cell_type": "code",
      "source": [
        "from sklearn.model_selection import train_test_split\n",
        "from sklearn.linear_model import LinearRegression"
      ],
      "metadata": {
        "id": "dGQelnkL5ABz"
      },
      "execution_count": null,
      "outputs": []
    },
    {
      "cell_type": "code",
      "source": [
        "X_train, X_test, Y_train, Y_test = train_test_split(X,Y,train_size = 0.7,random_state = 100)\n",
        "print(X_train.shape)\n",
        "print(Y_train.shape)\n",
        "print(X_test.shape)"
      ],
      "metadata": {
        "colab": {
          "base_uri": "https://localhost:8080/"
        },
        "id": "ixoIhDvHuDwE",
        "outputId": "8341636c-2e9b-405d-b843-576767bd2445"
      },
      "execution_count": null,
      "outputs": [
        {
          "output_type": "stream",
          "name": "stdout",
          "text": [
            "(936, 4)\n",
            "(936,)\n",
            "(402, 4)\n"
          ]
        }
      ]
    },
    {
      "cell_type": "code",
      "source": [
        "lr_model = LinearRegression()\n",
        "lr_model.fit(X_train, Y_train)"
      ],
      "metadata": {
        "id": "sDNqSwOpvGNo",
        "colab": {
          "base_uri": "https://localhost:8080/",
          "height": 74
        },
        "outputId": "48e8f546-94d7-40b3-ebb7-bd07e20cd001"
      },
      "execution_count": null,
      "outputs": [
        {
          "output_type": "execute_result",
          "data": {
            "text/plain": [
              "LinearRegression()"
            ],
            "text/html": [
              "<style>#sk-container-id-1 {color: black;background-color: white;}#sk-container-id-1 pre{padding: 0;}#sk-container-id-1 div.sk-toggleable {background-color: white;}#sk-container-id-1 label.sk-toggleable__label {cursor: pointer;display: block;width: 100%;margin-bottom: 0;padding: 0.3em;box-sizing: border-box;text-align: center;}#sk-container-id-1 label.sk-toggleable__label-arrow:before {content: \"▸\";float: left;margin-right: 0.25em;color: #696969;}#sk-container-id-1 label.sk-toggleable__label-arrow:hover:before {color: black;}#sk-container-id-1 div.sk-estimator:hover label.sk-toggleable__label-arrow:before {color: black;}#sk-container-id-1 div.sk-toggleable__content {max-height: 0;max-width: 0;overflow: hidden;text-align: left;background-color: #f0f8ff;}#sk-container-id-1 div.sk-toggleable__content pre {margin: 0.2em;color: black;border-radius: 0.25em;background-color: #f0f8ff;}#sk-container-id-1 input.sk-toggleable__control:checked~div.sk-toggleable__content {max-height: 200px;max-width: 100%;overflow: auto;}#sk-container-id-1 input.sk-toggleable__control:checked~label.sk-toggleable__label-arrow:before {content: \"▾\";}#sk-container-id-1 div.sk-estimator input.sk-toggleable__control:checked~label.sk-toggleable__label {background-color: #d4ebff;}#sk-container-id-1 div.sk-label input.sk-toggleable__control:checked~label.sk-toggleable__label {background-color: #d4ebff;}#sk-container-id-1 input.sk-hidden--visually {border: 0;clip: rect(1px 1px 1px 1px);clip: rect(1px, 1px, 1px, 1px);height: 1px;margin: -1px;overflow: hidden;padding: 0;position: absolute;width: 1px;}#sk-container-id-1 div.sk-estimator {font-family: monospace;background-color: #f0f8ff;border: 1px dotted black;border-radius: 0.25em;box-sizing: border-box;margin-bottom: 0.5em;}#sk-container-id-1 div.sk-estimator:hover {background-color: #d4ebff;}#sk-container-id-1 div.sk-parallel-item::after {content: \"\";width: 100%;border-bottom: 1px solid gray;flex-grow: 1;}#sk-container-id-1 div.sk-label:hover label.sk-toggleable__label {background-color: #d4ebff;}#sk-container-id-1 div.sk-serial::before {content: \"\";position: absolute;border-left: 1px solid gray;box-sizing: border-box;top: 0;bottom: 0;left: 50%;z-index: 0;}#sk-container-id-1 div.sk-serial {display: flex;flex-direction: column;align-items: center;background-color: white;padding-right: 0.2em;padding-left: 0.2em;position: relative;}#sk-container-id-1 div.sk-item {position: relative;z-index: 1;}#sk-container-id-1 div.sk-parallel {display: flex;align-items: stretch;justify-content: center;background-color: white;position: relative;}#sk-container-id-1 div.sk-item::before, #sk-container-id-1 div.sk-parallel-item::before {content: \"\";position: absolute;border-left: 1px solid gray;box-sizing: border-box;top: 0;bottom: 0;left: 50%;z-index: -1;}#sk-container-id-1 div.sk-parallel-item {display: flex;flex-direction: column;z-index: 1;position: relative;background-color: white;}#sk-container-id-1 div.sk-parallel-item:first-child::after {align-self: flex-end;width: 50%;}#sk-container-id-1 div.sk-parallel-item:last-child::after {align-self: flex-start;width: 50%;}#sk-container-id-1 div.sk-parallel-item:only-child::after {width: 0;}#sk-container-id-1 div.sk-dashed-wrapped {border: 1px dashed gray;margin: 0 0.4em 0.5em 0.4em;box-sizing: border-box;padding-bottom: 0.4em;background-color: white;}#sk-container-id-1 div.sk-label label {font-family: monospace;font-weight: bold;display: inline-block;line-height: 1.2em;}#sk-container-id-1 div.sk-label-container {text-align: center;}#sk-container-id-1 div.sk-container {/* jupyter's `normalize.less` sets `[hidden] { display: none; }` but bootstrap.min.css set `[hidden] { display: none !important; }` so we also need the `!important` here to be able to override the default hidden behavior on the sphinx rendered scikit-learn.org. See: https://github.com/scikit-learn/scikit-learn/issues/21755 */display: inline-block !important;position: relative;}#sk-container-id-1 div.sk-text-repr-fallback {display: none;}</style><div id=\"sk-container-id-1\" class=\"sk-top-container\"><div class=\"sk-text-repr-fallback\"><pre>LinearRegression()</pre><b>In a Jupyter environment, please rerun this cell to show the HTML representation or trust the notebook. <br />On GitHub, the HTML representation is unable to render, please try loading this page with nbviewer.org.</b></div><div class=\"sk-container\" hidden><div class=\"sk-item\"><div class=\"sk-estimator sk-toggleable\"><input class=\"sk-toggleable__control sk-hidden--visually\" id=\"sk-estimator-id-1\" type=\"checkbox\" checked><label for=\"sk-estimator-id-1\" class=\"sk-toggleable__label sk-toggleable__label-arrow\">LinearRegression</label><div class=\"sk-toggleable__content\"><pre>LinearRegression()</pre></div></div></div></div></div>"
            ]
          },
          "metadata": {},
          "execution_count": 31
        }
      ]
    },
    {
      "cell_type": "code",
      "source": [
        "y_predict = lr_model.predict(X_test)\n",
        "y_predict"
      ],
      "metadata": {
        "id": "Ej9aiIpZvRKB",
        "colab": {
          "base_uri": "https://localhost:8080/"
        },
        "outputId": "c6e3f4ac-e6ed-45be-a986-7735e5d39208"
      },
      "execution_count": null,
      "outputs": [
        {
          "output_type": "execute_result",
          "data": {
            "text/plain": [
              "array([ 9971.62533597, 10046.03819317, 13020.83105471,  7974.28837294,\n",
              "        5863.50455445, 17818.14558636, 19014.58684013,  7473.96284759,\n",
              "       10947.50631317, 20193.66073392, 20283.96025844,  9960.5878226 ,\n",
              "       15760.57046809,  9131.4992804 , 14592.91997389, 13585.68585963,\n",
              "       16252.29744809, 18074.7841004 , 12150.03930815, 23093.83944238,\n",
              "       19085.8197494 ,  8103.21379498, 11209.61466455, 12212.40578486,\n",
              "       18375.32516489, 13359.76060186, 11293.48496939, 20428.51699801,\n",
              "       12605.96389256, 17986.8713688 , 23383.39030768,  7466.88466759,\n",
              "       20064.00109809,  7514.86926234, 13515.31137881, 16132.83007737,\n",
              "       13072.48388449, 13509.09455099,  8965.74478605, 19621.01527635,\n",
              "       12689.70246331, 16811.85071781, 10521.63080685, 13680.39860815,\n",
              "        5685.287334  , 10315.71419615, 10133.74465875,  8838.47132924,\n",
              "        6823.45734335, 15856.3051772 , 22014.4507665 , 12240.01298952,\n",
              "       10120.11348032, 12948.93947739, 12003.93491463, 18730.65294534,\n",
              "       18214.40043985, 11955.37754625, 13407.11787645, 17357.6727839 ,\n",
              "        8641.75448403,  7945.73532536, 11045.68499595, 14925.55919391,\n",
              "       19271.95803493,  7682.46258566,  6265.37912389, 13537.76201813,\n",
              "       16747.37999851, 18294.93683518, 14638.63072727,  9168.59507486,\n",
              "       15509.08334706,  8867.43494043, 15765.18805646,  5784.01135997,\n",
              "       16227.56790383, 14696.78539515, 18217.00295654, 13843.82599473,\n",
              "        8001.03636278, 13771.35247265, 11976.52208132,  9370.15372883,\n",
              "       11562.58657347, 18230.58442567, 17212.11031475, 14475.39622439,\n",
              "        9200.5007933 , 14562.09895786,  7930.79871152, 14069.79929876,\n",
              "       11909.55152437,  6565.30075564, 11989.51398459, 12899.39330882,\n",
              "       17404.24098384, 15146.78297398, 11227.949009  ,  7777.47876844,\n",
              "       10234.3407    , 10150.90856541, 16399.97543299, 12282.66604341,\n",
              "       11642.26540584, 18869.26113951, 10078.23215705, 11260.89844345,\n",
              "       21957.14531798,  9028.74066663, 17200.2132168 , 10143.21318989,\n",
              "       16495.63029017, 16157.59361264, 13172.67727858, 18572.75637256,\n",
              "        8046.74143466, 21801.14873624, 16137.37515833, 12379.77488129,\n",
              "       11907.62609323, 12568.13554266, 19502.14783556, 16348.24838965,\n",
              "       16715.65043477, 15211.50944409, 17099.00459584, 11241.39465296,\n",
              "        8888.11066172, 14992.58488763,  8649.0761645 , 14238.10513247,\n",
              "       10637.46225155, 18495.19929524,  8738.0090035 , 10200.88701817,\n",
              "       15362.35405377, 11986.06656299, 11084.13865445, 13749.02380539,\n",
              "       11222.56417177,  9540.68868911,  9001.86135331, 14694.85918542,\n",
              "       11722.06710819, 16928.34682345, 16422.94908882, 10242.14872748,\n",
              "       16308.10613469, 15162.19848086, 15761.17031584,  7906.38302706,\n",
              "       10645.41454229, 13711.92341523, 15349.20428639, 14522.46418251,\n",
              "       13412.35636558, 14926.5459506 , 15873.32578755,  8830.31703375,\n",
              "       20005.69648593,  8112.51271079, 13532.60749097, 18508.64661456,\n",
              "       10004.6392526 , 18864.77742505,  7078.67720412, 15375.24681856,\n",
              "       20098.55171678, 19007.82075637, 19977.25675964,  8027.35370489,\n",
              "       10588.43128467,  7497.29980601, 14411.81290526, 10623.56336084,\n",
              "        8497.256941  , 14157.36750449, 19799.88264699,  6952.95807288,\n",
              "       14339.39622191,  7346.27453752, 11257.44033291, 19795.64821547,\n",
              "        9222.81273559,  7257.68298405,  9917.59603537, 17946.5888956 ,\n",
              "       12258.34587956, 19581.27321573,  4565.3597411 , 14243.27011401,\n",
              "        8196.4398845 , 13944.86156614, 11596.91493729, 12163.51567427,\n",
              "       18136.94082792,  4482.70041691, 14267.35423605, 15633.12534709,\n",
              "        9465.3876601 , 12606.9061241 ,  8398.33150813, 14048.94202838,\n",
              "       21045.41180688, 18259.46690057, 13241.13275528, 16405.17270118,\n",
              "        6329.69520935, 12482.13271649, 15722.47737211, 10558.76270911,\n",
              "        6979.09063433, 17235.48258925, 16059.82226432, 12048.42796254,\n",
              "       16002.04480237, 13195.02963777,  9205.40544907,  6082.59450696,\n",
              "       16184.49351698, 20314.51427934, 13914.72573998, 13237.29980895,\n",
              "       14212.18406546, 20160.50831284, 13734.81248759,  6869.37277541,\n",
              "       18946.10504244, 15992.0213338 , 15026.81900225, 14985.11627822,\n",
              "       17854.13883931, 14035.92273487,  8331.53053636, 15434.96341123,\n",
              "       10277.61971124, 12841.47442045, 18086.47799726, 11949.40327836,\n",
              "       12256.13982051,  6541.60922225,  8036.58383104, 16538.08082593,\n",
              "       10823.64634077, 12388.96485996,  7737.76548405, 20713.40816729,\n",
              "       14840.12442927, 11033.97265501,  9906.02005195, 11105.7450381 ,\n",
              "        9828.70599656, 15777.41255004, 19282.67832108,  5657.60436087,\n",
              "       10544.5160013 , 15173.9446598 , 11249.39859309, 12697.9698178 ,\n",
              "        6223.26876939, 14563.97935159, 12968.29862707, 10751.85212493,\n",
              "        4295.91077124, 18650.78002466, 15247.99030409, 15785.97319163,\n",
              "        7084.42726637, 17333.72081596, 19643.60799133, 13959.50406403,\n",
              "       15986.06321717, 18088.50091745, 16410.87481945, 16273.11293095,\n",
              "        8703.1479302 , 10866.96058298,  9610.19094498, 15833.97553277,\n",
              "        9422.12906206, 16752.58843417,  9279.62333239, 14109.05685456,\n",
              "        8705.04799631,  7548.92573528, 14378.6964756 ,  7843.20695146,\n",
              "        8630.01211507, 16625.84323053, 16602.5704578 , 10395.75133841,\n",
              "       11193.60625681, 15506.06086154, 10333.2133032 , 18594.74132092,\n",
              "       10107.19006844, 17006.81167459, 15013.91048676, 15671.6074876 ,\n",
              "        9749.42655626,  7545.51667702, 16931.56886025,  9236.89641345,\n",
              "       16739.97795564, 14573.69773937, 12733.26680321, 14092.94530286,\n",
              "       18065.84859888,  6600.06238731, 18703.90565499, 14206.9244288 ,\n",
              "       18646.2679209 ,  8960.79626797, 18490.23085904, 13650.69214713,\n",
              "       16249.337048  , 13373.79719346, 20930.15468893, 11383.54126221,\n",
              "        4984.40777594, 19850.69750464, 12583.5530162 , 16037.63680113,\n",
              "       17660.40579191, 18811.8498029 ,  8182.64962487, 10236.01409224,\n",
              "       12275.95351022, 16969.11319715, 15081.20588311,  7639.20128838,\n",
              "        7118.47825396, 16994.31968723, 16968.58840122, 10492.75507798,\n",
              "        9848.05614449, 15097.12514359, 19729.13486472, 12189.21690682,\n",
              "        9339.36176607, 18425.60468712,  8150.2337819 , 13478.7606398 ,\n",
              "       16683.247108  ,  7372.62749529, 10273.88838053,  9983.72924819,\n",
              "       18574.7643153 , 12129.65974923,  9753.66774208, 17529.50729838,\n",
              "       12451.89068549,  9878.25762924, 12329.02978513, 12490.81199515,\n",
              "       12574.13813953, 13112.1258301 ,  7034.4346308 ,  8306.64828604,\n",
              "        6869.49923084, 20393.27941179,  8203.07618251, 11258.25170232,\n",
              "       18338.68860472, 19081.27173042, 14855.75650013, 11153.47457796,\n",
              "       13848.40668843, 13614.17290547, 10194.07025863,  7171.57168746,\n",
              "        7775.17436555,  7868.78751575, 17304.16759807, 10537.00881052,\n",
              "        9696.00153847, 11949.79309922, 12527.96902853, 19284.80721447,\n",
              "        9051.49842669,  5330.89678412, 14505.41244992, 14227.26062632,\n",
              "       13841.22955069,  9031.91035278, 12379.28208783, 20280.85654503,\n",
              "        9025.29774849, 21084.40514069,  4546.17774095, 10189.07495273,\n",
              "       16310.10096517, 15025.26723893, 15312.56838081, 13026.14078518,\n",
              "       15322.22416262,  9182.51977608, 11266.1682474 , 10359.62373302,\n",
              "       12735.99055943, 12623.25568849])"
            ]
          },
          "metadata": {},
          "execution_count": 32
        }
      ]
    },
    {
      "cell_type": "code",
      "source": [
        "train_accuracy = lr_model.score(X_train, Y_train)\n",
        "train_accuracy"
      ],
      "metadata": {
        "id": "xEjNa1ktvY4c",
        "colab": {
          "base_uri": "https://localhost:8080/"
        },
        "outputId": "dc081fda-5737-499d-8365-fe92584a5b30"
      },
      "execution_count": null,
      "outputs": [
        {
          "output_type": "execute_result",
          "data": {
            "text/plain": [
              "0.12378421593147859"
            ]
          },
          "metadata": {},
          "execution_count": 33
        }
      ]
    },
    {
      "cell_type": "code",
      "source": [
        "test_accuracy = lr_model.score(X_test, Y_test)\n",
        "test_accuracy"
      ],
      "metadata": {
        "id": "g1ABEnqZwbOl",
        "colab": {
          "base_uri": "https://localhost:8080/"
        },
        "outputId": "1a66bc71-ba66-408d-a6f0-fa66dd227169"
      },
      "execution_count": null,
      "outputs": [
        {
          "output_type": "execute_result",
          "data": {
            "text/plain": [
              "0.10803091879737337"
            ]
          },
          "metadata": {},
          "execution_count": 34
        }
      ]
    },
    {
      "cell_type": "code",
      "source": [
        "from sklearn.metrics import mean_squared_error\n",
        "from sklearn.metrics import mean_absolute_error\n",
        "from sklearn.metrics import r2_score\n",
        "\n",
        "print('Mean absolute error = ', mean_absolute_error(Y_test, y_predict))\n",
        "print('Mean square error = ', mean_squared_error(Y_test, y_predict))\n",
        "print('R2 Score = ', r2_score(Y_test, y_predict))"
      ],
      "metadata": {
        "id": "wn4OgmkowmI8",
        "colab": {
          "base_uri": "https://localhost:8080/"
        },
        "outputId": "071e9927-9159-4880-b9a9-7eae7b78c0ea"
      },
      "execution_count": null,
      "outputs": [
        {
          "output_type": "stream",
          "name": "stdout",
          "text": [
            "Mean absolute error =  8913.844292267313\n",
            "Mean square error =  129511850.04259177\n",
            "R2 Score =  0.10803091879737337\n"
          ]
        }
      ]
    },
    {
      "cell_type": "code",
      "source": [
        "from sklearn.preprocessing import PolynomialFeatures\n",
        "\n",
        "poly = PolynomialFeatures(degree=2)\n",
        "x_train_poly = poly.fit_transform(X_train)\n",
        "x_test_poly = poly.fit_transform(X_test)\n",
        "\n",
        "model = LinearRegression()\n",
        "model.fit(x_train_poly, Y_train)"
      ],
      "metadata": {
        "id": "hsE5-_v93sc7",
        "colab": {
          "base_uri": "https://localhost:8080/",
          "height": 74
        },
        "outputId": "a5a05fe3-800a-4180-972e-127ecd8fde61"
      },
      "execution_count": null,
      "outputs": [
        {
          "output_type": "execute_result",
          "data": {
            "text/plain": [
              "LinearRegression()"
            ],
            "text/html": [
              "<style>#sk-container-id-2 {color: black;background-color: white;}#sk-container-id-2 pre{padding: 0;}#sk-container-id-2 div.sk-toggleable {background-color: white;}#sk-container-id-2 label.sk-toggleable__label {cursor: pointer;display: block;width: 100%;margin-bottom: 0;padding: 0.3em;box-sizing: border-box;text-align: center;}#sk-container-id-2 label.sk-toggleable__label-arrow:before {content: \"▸\";float: left;margin-right: 0.25em;color: #696969;}#sk-container-id-2 label.sk-toggleable__label-arrow:hover:before {color: black;}#sk-container-id-2 div.sk-estimator:hover label.sk-toggleable__label-arrow:before {color: black;}#sk-container-id-2 div.sk-toggleable__content {max-height: 0;max-width: 0;overflow: hidden;text-align: left;background-color: #f0f8ff;}#sk-container-id-2 div.sk-toggleable__content pre {margin: 0.2em;color: black;border-radius: 0.25em;background-color: #f0f8ff;}#sk-container-id-2 input.sk-toggleable__control:checked~div.sk-toggleable__content {max-height: 200px;max-width: 100%;overflow: auto;}#sk-container-id-2 input.sk-toggleable__control:checked~label.sk-toggleable__label-arrow:before {content: \"▾\";}#sk-container-id-2 div.sk-estimator input.sk-toggleable__control:checked~label.sk-toggleable__label {background-color: #d4ebff;}#sk-container-id-2 div.sk-label input.sk-toggleable__control:checked~label.sk-toggleable__label {background-color: #d4ebff;}#sk-container-id-2 input.sk-hidden--visually {border: 0;clip: rect(1px 1px 1px 1px);clip: rect(1px, 1px, 1px, 1px);height: 1px;margin: -1px;overflow: hidden;padding: 0;position: absolute;width: 1px;}#sk-container-id-2 div.sk-estimator {font-family: monospace;background-color: #f0f8ff;border: 1px dotted black;border-radius: 0.25em;box-sizing: border-box;margin-bottom: 0.5em;}#sk-container-id-2 div.sk-estimator:hover {background-color: #d4ebff;}#sk-container-id-2 div.sk-parallel-item::after {content: \"\";width: 100%;border-bottom: 1px solid gray;flex-grow: 1;}#sk-container-id-2 div.sk-label:hover label.sk-toggleable__label {background-color: #d4ebff;}#sk-container-id-2 div.sk-serial::before {content: \"\";position: absolute;border-left: 1px solid gray;box-sizing: border-box;top: 0;bottom: 0;left: 50%;z-index: 0;}#sk-container-id-2 div.sk-serial {display: flex;flex-direction: column;align-items: center;background-color: white;padding-right: 0.2em;padding-left: 0.2em;position: relative;}#sk-container-id-2 div.sk-item {position: relative;z-index: 1;}#sk-container-id-2 div.sk-parallel {display: flex;align-items: stretch;justify-content: center;background-color: white;position: relative;}#sk-container-id-2 div.sk-item::before, #sk-container-id-2 div.sk-parallel-item::before {content: \"\";position: absolute;border-left: 1px solid gray;box-sizing: border-box;top: 0;bottom: 0;left: 50%;z-index: -1;}#sk-container-id-2 div.sk-parallel-item {display: flex;flex-direction: column;z-index: 1;position: relative;background-color: white;}#sk-container-id-2 div.sk-parallel-item:first-child::after {align-self: flex-end;width: 50%;}#sk-container-id-2 div.sk-parallel-item:last-child::after {align-self: flex-start;width: 50%;}#sk-container-id-2 div.sk-parallel-item:only-child::after {width: 0;}#sk-container-id-2 div.sk-dashed-wrapped {border: 1px dashed gray;margin: 0 0.4em 0.5em 0.4em;box-sizing: border-box;padding-bottom: 0.4em;background-color: white;}#sk-container-id-2 div.sk-label label {font-family: monospace;font-weight: bold;display: inline-block;line-height: 1.2em;}#sk-container-id-2 div.sk-label-container {text-align: center;}#sk-container-id-2 div.sk-container {/* jupyter's `normalize.less` sets `[hidden] { display: none; }` but bootstrap.min.css set `[hidden] { display: none !important; }` so we also need the `!important` here to be able to override the default hidden behavior on the sphinx rendered scikit-learn.org. See: https://github.com/scikit-learn/scikit-learn/issues/21755 */display: inline-block !important;position: relative;}#sk-container-id-2 div.sk-text-repr-fallback {display: none;}</style><div id=\"sk-container-id-2\" class=\"sk-top-container\"><div class=\"sk-text-repr-fallback\"><pre>LinearRegression()</pre><b>In a Jupyter environment, please rerun this cell to show the HTML representation or trust the notebook. <br />On GitHub, the HTML representation is unable to render, please try loading this page with nbviewer.org.</b></div><div class=\"sk-container\" hidden><div class=\"sk-item\"><div class=\"sk-estimator sk-toggleable\"><input class=\"sk-toggleable__control sk-hidden--visually\" id=\"sk-estimator-id-2\" type=\"checkbox\" checked><label for=\"sk-estimator-id-2\" class=\"sk-toggleable__label sk-toggleable__label-arrow\">LinearRegression</label><div class=\"sk-toggleable__content\"><pre>LinearRegression()</pre></div></div></div></div></div>"
            ]
          },
          "metadata": {},
          "execution_count": 36
        }
      ]
    },
    {
      "cell_type": "code",
      "source": [
        "predict_train_poly = model.predict(x_train_poly)\n",
        "predict_train_poly"
      ],
      "metadata": {
        "colab": {
          "base_uri": "https://localhost:8080/"
        },
        "id": "g5vG1tsGJNhH",
        "outputId": "c6d68495-9f56-4aa9-dfc6-d1af203be2ab"
      },
      "execution_count": null,
      "outputs": [
        {
          "output_type": "execute_result",
          "data": {
            "text/plain": [
              "array([15044.33473121, 15258.02891109, 16200.60979988,  8707.99535517,\n",
              "       13846.8786837 , 10713.8990275 , 18397.17073706, 13971.54005283,\n",
              "       15842.83368789, 14079.42476684, 13946.06483658,  9475.8669816 ,\n",
              "       14471.09261179, 10523.90597955, 10655.37870161, 11842.64821041,\n",
              "       11745.4280521 ,  6379.88423108, 17946.64793066, 15443.19294959,\n",
              "       10268.21239222, 17844.32040101, 17536.05599311,  5891.21903971,\n",
              "       17678.86106814, 11633.15610955, 13344.83625859, 14658.3778061 ,\n",
              "        9992.21485914, 13157.1336696 , 16005.4050424 ,  8974.02039716,\n",
              "        9938.59817016, 10425.43781262, 23280.70538489, 18982.25028882,\n",
              "       12918.37489534, 14894.30982976, 10878.0987212 ,  9510.10323391,\n",
              "       16858.62854443, 13708.41565689, 16366.20976901,  9964.53511266,\n",
              "        4235.32771668,  7159.51881582, 13342.56320898,  6279.68939467,\n",
              "       13932.74506505, 10331.95179734, 12711.44873544, 16716.82394642,\n",
              "       10028.96468364,  7606.25664456,  9058.06828926, 17651.08097145,\n",
              "       15170.86507093, 10376.03202032, 18616.80381417,  8256.99464811,\n",
              "        7739.11308755,  6322.54844584, 13017.28542692,  6184.75408696,\n",
              "       13437.88596532, 12238.53127877, 10379.93653829, 13344.84072944,\n",
              "       12253.25872108,  8980.58700337,  6351.08497361, 12926.18995167,\n",
              "        9493.27003021, 12246.07438539, 13921.47143147, 16863.11949909,\n",
              "        3017.0491542 ,  9949.09779846, 17204.11886386, 10870.11473759,\n",
              "       19253.03910133, 16018.88411591, 13068.20923826, 15660.35551859,\n",
              "        8822.80170937, 13494.4254058 , 11295.33277246, 10579.47849682,\n",
              "       14377.04681753, 11142.09149738,  8866.25673134, 12569.73557591,\n",
              "       12231.70254123, 13327.06846891, 13142.97287739,  9422.38692056,\n",
              "       16397.4359442 , 14246.9557936 , 21291.7655571 ,  7288.55833983,\n",
              "        8450.41968128, 18606.22769317, 14100.87601498,  8531.27546629,\n",
              "       19834.94584538, 15661.45843729, 14204.97078038, 21645.99399451,\n",
              "       10735.27572007, 14005.28765139,  8319.25468226, 13487.01992234,\n",
              "       12331.20540367, 16310.64306503,  8633.71035664, 10255.28627299,\n",
              "       14131.94684905, 17729.55398706,  8574.17147041, 14447.4663473 ,\n",
              "       14055.60587243, 15041.66950494, 17204.92536541, 12551.94482541,\n",
              "        4427.26269325, 14022.09801583,  6995.47692953, 16508.77660778,\n",
              "       15246.91057063, 12043.87330294, 17394.59898291, 16427.92954977,\n",
              "       18977.97015152,  9376.21918843,  9462.62980673, 10031.69254923,\n",
              "        3919.88621872,  5492.64033872, 14693.85785859, 21836.89006728,\n",
              "       19173.09317125, 15827.50891643, 10463.37324152, 19687.33333696,\n",
              "       23137.88896998, 19491.71616887, 14716.87426771, 13621.99224699,\n",
              "       11415.51130386, 16356.73915765, 10632.68119277, 18340.31047765,\n",
              "       15764.13367257,  8281.1154171 , 21947.70845937, 14773.18215125,\n",
              "       17463.46396289, 16159.92991011, 13959.70467001, 24003.70899223,\n",
              "        9776.11804401, 16195.01279452, 14463.3961714 ,  5718.67248507,\n",
              "       18300.95626059,  8527.30807881, 16895.86655554,  3134.6447496 ,\n",
              "       20902.80879611, 12282.57058005, 13248.04417337,  9579.76118696,\n",
              "       16840.35870659, 14377.15168317, 17166.30746595, 14758.30192072,\n",
              "       12119.29828238,  5971.96957224, 15856.11239958, 10202.67480555,\n",
              "       11059.72328401,  8064.34542369, 11450.52128534,  8607.43481001,\n",
              "        8831.43217897, 13387.72983141,  9420.11481878,  8619.31677333,\n",
              "       11553.39853756, 22241.30231416, 18727.59131215,  6829.58183359,\n",
              "       13772.31097526, 13886.34029543, 17154.75198746,  4024.20324633,\n",
              "       14212.37745505, 14593.45081734, 14175.08837242, 15175.50809262,\n",
              "       15143.80263069, 19115.93161519, 15564.73903228, 13579.1611732 ,\n",
              "        6485.93369979, 15743.75618005, 10546.38948268, 14420.97266447,\n",
              "        5900.50106963, 19353.06480154, 10438.87143686, 17174.64100238,\n",
              "       12539.83123338, 13942.08983468,  8680.55214284, 18655.70610763,\n",
              "        9035.80942617, 13751.33834323,  4645.49803651, 11841.02784907,\n",
              "       21667.62122478, 16974.57589554, 10041.88626387, 10700.74734482,\n",
              "       11260.87321571, 17918.50713727, 16189.87651135,  7005.03717092,\n",
              "        6181.57271758, 11826.15094285, 22980.81701044, 23021.13057145,\n",
              "       13706.60368006, 10523.84863005,  7022.31482638, 15194.33733305,\n",
              "       18798.94592014,  9937.49388477, 12848.63874862, 13925.93001719,\n",
              "       14852.75085604,  9830.00735645, 16012.72533549, 14046.31556155,\n",
              "       10544.96991412, 20901.46717233,  8929.1111961 , 13057.81675283,\n",
              "       18751.42854754, 18025.31815167, 14530.5825022 , 13222.3225933 ,\n",
              "        7116.4247213 , 10371.64389472, 19861.96090817,  6986.54454839,\n",
              "       15814.98994519, 11432.08735418, 11420.46444791, 23383.42055656,\n",
              "       10191.38988295,  3982.61422034, 20194.45703079, 18747.46642718,\n",
              "       16667.01328516,  9855.30254326,  8584.48989951, 10398.46325219,\n",
              "       18293.39322721, 14236.31845131,  9489.13062197, 14980.63006092,\n",
              "        3902.19590228, 13830.25082275, 15542.63017073, 18828.47892171,\n",
              "       14239.78899272, 11320.19287661, 11918.21334966, 15287.64059288,\n",
              "       11541.37256594, 11289.78546278,  5984.29279669,  7987.01569289,\n",
              "       14509.98116206, 18188.50053168, 14389.32109542, 20004.66659379,\n",
              "       19551.02741473, 10632.55432593, 18439.94850531, 12354.76601728,\n",
              "       11417.98489631, 11844.06441674, 14199.0424502 , 11477.68416034,\n",
              "        9478.42948376,  7148.57737886, 20753.49926771, 18706.42074828,\n",
              "        8122.51760938, 15638.69830161, 21005.41886902,  4277.62554297,\n",
              "       14419.90593081,  8626.60879493, 14241.74358668, 14417.94535907,\n",
              "        9404.91294648,  9532.21304447, 13563.84796772, 15824.68547267,\n",
              "       11835.88281997,  7512.49443323,  7670.53956295,  9026.53648152,\n",
              "       15768.6825408 , 11122.53582416, 15430.93707302,  7656.13403082,\n",
              "       20862.32098384, 10157.15549402, 21980.00739995, 15109.19177211,\n",
              "       20746.65418942, 11664.03974532,  7013.52443716, 11908.32981428,\n",
              "       15920.72034708, 19285.58052115,  5558.06811582,  9885.3416414 ,\n",
              "       15666.49771403, 13599.17297504,  6469.29618006,  9401.4870753 ,\n",
              "        7938.98493206, 20372.49882935, 11236.91536397,  8517.71920709,\n",
              "       20847.49098334, 16064.19015156,  5200.80182423, 12427.32153488,\n",
              "       11173.73286219, 11997.0482916 , 17812.76529192, 17366.52467585,\n",
              "        6617.76307075, 16071.5210079 , 11189.26176146, 24215.53499145,\n",
              "        8195.86615497, 15561.73166266, 10332.42544817, 22080.72104678,\n",
              "       11356.15771006, 11111.02528584,  3462.2991117 , 15698.34577292,\n",
              "       20707.48022995, 16755.12330067, 13113.77888487, 16641.12755345,\n",
              "        4471.57522535, 11264.88660081, 16592.38098821,  8477.30310267,\n",
              "       13664.13439128, 16166.93369134, 15039.44620696,  8736.27742429,\n",
              "       15555.5360551 ,  5443.05523517,  4917.08100675, 18195.29419971,\n",
              "       20427.87317773, 13366.18129607, 17552.5309589 , 13009.64844982,\n",
              "        8855.78844028, 15876.06909168, 15272.94064967, 19476.57981327,\n",
              "       15910.28905254, 10906.98938921, 12720.92505135, 20918.42272289,\n",
              "       18058.81926398, 11066.9019118 , 20674.16065133, 11867.86191491,\n",
              "       10270.55836786,  3282.53799695, 13000.17949606, 10911.34442547,\n",
              "       10352.58622783, 11835.49873665, 10610.83429017, 13638.26359829,\n",
              "        9131.71243291,  9073.11975486, 18327.87727738, 16785.66115188,\n",
              "       10551.17284373,  2934.56778465, 23507.55001667, 12417.44533316,\n",
              "       10374.02362263, 23917.3090456 , 12185.32192787, 14422.57311844,\n",
              "       18746.02284907, 11480.57607362, 14809.29500925,  7860.44364581,\n",
              "       15878.69123054,  7803.33833465, 19696.48742978, 15384.1051114 ,\n",
              "       18918.34556055, 20693.43306584, 14973.72385166, 19292.26673715,\n",
              "        9059.15382159, 17623.54110491, 20777.88703307,  7436.90880215,\n",
              "        7503.40958299, 17013.46819175,  5400.02924053, 17178.77177548,\n",
              "        6778.29125842,  2946.83431844, 17178.36098309, 10617.88025405,\n",
              "       18496.67553674,  8468.42404851,  9464.85752572, 14543.58879379,\n",
              "       20748.58036445, 14156.8662846 , 21611.89377248, 17979.50474162,\n",
              "       19111.38256047, 12985.51644248, 20583.03145056, 11901.03774779,\n",
              "        7056.64125776,  7967.31066372, 17226.43307545, 14133.71587891,\n",
              "       24404.04831476, 14810.33225949,  9778.8982044 , 21249.79589671,\n",
              "       12503.32660454, 11429.35617428, 10014.46431535,  7635.23870936,\n",
              "       22854.9443562 , 14774.97639596,  9129.26167583,  5172.81340639,\n",
              "        9177.12787133, 11509.84115309, 10467.92005226, 10017.75065293,\n",
              "       15999.51957735, 20610.2297553 , 10838.84580023, 12106.92987979,\n",
              "       11777.24818689, 18257.98146374,  9214.5375614 , 12352.80685334,\n",
              "       14612.5975872 , 21454.97773239, 10953.45879987, 12806.80748887,\n",
              "       18270.67427954, 11316.73845743, 20994.79116538, 19094.64011251,\n",
              "       18022.27108276, 13083.62918487, 15912.17329572,  5138.80237114,\n",
              "       12084.99389502,  7630.0879023 , 10925.55367297, 11798.91535549,\n",
              "       15980.09947604,  8566.41564185, 15637.47971212, 15577.79212288,\n",
              "        7383.83766887, 13071.59593051, 15690.21331491, 16845.11957999,\n",
              "       17152.15962137,  9964.16912678, 11070.13346311, 10954.40593225,\n",
              "       11558.30691703, 17770.97172218, 15387.9783644 ,  3455.31560227,\n",
              "       18698.44985123, 10088.98281642, 15057.83952936, 11361.55289092,\n",
              "       10679.44551856, 11630.17962913, 23589.36623798, 14457.85460781,\n",
              "       11966.69304461, 18392.52584496, 15054.33421262, 19925.92266349,\n",
              "       12500.38952428, 15805.12573782, 16343.7162773 , 17044.09038366,\n",
              "        9941.87559513, 17270.40535674, 20153.358597  , 18198.54193724,\n",
              "       13748.06608905,  8027.08958482, 17516.27253377, 15675.90893019,\n",
              "       14899.45526502,  6709.02434597, 17617.31729937, 18764.32897539,\n",
              "        5706.10263531, 14088.72176212, 15010.71056114,  9895.12103109,\n",
              "       14598.08241563, 13247.88292297,  5543.421666  ,  6285.99173318,\n",
              "       17840.96634767, 18211.04546274, 12190.33096042, 13268.2316595 ,\n",
              "       13459.39059507, 12218.08580652, 10606.69474672, 11863.74165676,\n",
              "       17249.53795354,  9064.3646286 , 12248.11442282, 17342.12412596,\n",
              "       13281.07108146, 10104.45149045, 11849.17736124, 12483.88132884,\n",
              "       14248.23162418, 13355.19864053, 16910.46028959, 22916.08747628,\n",
              "       11386.74360427,  7653.050883  , 10926.86265028, 10908.91558988,\n",
              "       11970.38585515, 15373.74650323, 12234.75089009, 11525.36503657,\n",
              "       16753.73742048, 11650.95342793, 18858.68714929, 14040.02533759,\n",
              "       17628.64537169,  7704.69567201,  9228.74080522,  7565.00763144,\n",
              "       23174.79991256, 20723.03591001,  7386.21220208,  7736.97201939,\n",
              "       18315.4381069 ,  9376.6221464 , 17358.53560844, 17507.67331233,\n",
              "       12758.55650476, 13050.26278253, 22086.74705503, 11096.35839408,\n",
              "       16726.88362205,  8924.38425734, 22913.41682181, 12069.91976734,\n",
              "       14914.64726113, 13275.89740155, 11729.69783825,  7575.37522546,\n",
              "       15879.64544331, 17125.73627035,  6266.71278922, 12298.75093869,\n",
              "       14913.05095658, 21091.02277517,  9232.30660427, 16025.79310387,\n",
              "        9375.82679046,  9217.90242857, 12973.89383083, 19238.51531608,\n",
              "       14879.32367609, 24715.17990298, 15570.96466742, 14285.03423657,\n",
              "       21740.04202164,  5892.95006951, 12452.8394488 , 10166.98128383,\n",
              "       14271.5119077 , 10693.85527103,  9118.85286806, 19943.598777  ,\n",
              "       16457.3342123 , 15917.0917068 ,  8387.54400323, 11481.55177471,\n",
              "        7265.15103764, 23001.12394088,  8211.2569608 , 15936.65386414,\n",
              "       13031.86510102, 19931.31383332, 11403.93895928,  6497.06971087,\n",
              "        9797.49703245, 17746.81062981, 18460.58103262,  9720.02042256,\n",
              "        5379.5373737 , 14512.82327465,  6701.19067791,  2238.25485901,\n",
              "       11148.76818518, 13764.84869216,  8549.65488412, 15241.33892026,\n",
              "        8433.27280052,  8960.61717125, 12844.79794994, 23381.45280753,\n",
              "       11118.58309472, 15081.80563604,  7610.36806922, 21201.53749875,\n",
              "       14965.52033577,  8339.55269674,  8358.91658121, 14875.6151711 ,\n",
              "       17290.49321968, 15356.27459504, 14015.58672969,  7630.61075978,\n",
              "        4532.90435189, 19075.02688815,  9320.16998188, 18910.10955834,\n",
              "       10065.33274724, 10662.59207584, 15606.82689917, 10830.11054822,\n",
              "        8093.49807723,  7271.06237016, 12048.89561248, 20981.25329901,\n",
              "       15467.04220458, 18170.66929746, 10492.10214505, 12404.60767854,\n",
              "       11567.7366536 ,  8635.79717427, 13675.34554111,  9290.06399791,\n",
              "       16999.87632263, 16304.91302569, 14367.73040108, 13322.30454891,\n",
              "       14831.47457448,  7630.37964161, 17055.34739636,  5723.11935339,\n",
              "       19567.96722502, 14785.90552151, 10042.7307452 , 11717.89589548,\n",
              "        8029.79426573, 11463.10237602, 11069.01475425,  8645.24815995,\n",
              "       11043.79037809,  6938.42288794,  4539.69189989, 13075.71564734,\n",
              "       20163.02981065, 17434.31977285, 15322.50096978,  7750.87831936,\n",
              "       23233.23210491, 16047.93546659, 17043.37449456, 15093.9307839 ,\n",
              "       13613.87816928, 21710.23383872, 13542.09334976,  4136.77092455,\n",
              "       17690.09890749,  8938.85515785,  7490.74507779, 11537.18925358,\n",
              "        4885.84632841,  7931.27379177, 13377.7383261 ,  9282.07074076,\n",
              "        6278.73114843, 15419.21502225, 18131.52267335, 10134.75521699,\n",
              "       16695.80503739, 14089.71320119, 13932.45099059,  8100.00698216,\n",
              "       15503.66594734, 19458.15653427, 21404.82593262, 10848.06665554,\n",
              "       11240.03349806,  6361.75868374, 14365.56900869,  8977.90831757,\n",
              "       12407.8941486 , 10416.754085  ,  8304.44312557, 14012.60016358,\n",
              "        6784.27734758, 11837.86799276, 20573.20029936, 15015.72102439,\n",
              "       12133.155029  ,  5167.84331138, 14460.43848811, 17483.48096778,\n",
              "       12411.24795523, 10713.4241056 , 14139.56829988,  7155.71924337,\n",
              "       18379.33581408, 16319.85855167,  9624.20098735, 11239.66617044,\n",
              "       12342.84833194, 13830.82675557, 11893.54503322, 13762.98799648,\n",
              "       18050.95520593, 12763.54837037, 10052.80304237, 12490.4160607 ,\n",
              "       12419.85110893,  4499.08930773,  9642.56084685, 11188.05774258,\n",
              "       15656.85649374, 18590.54306374, 16035.16696943, 14115.19946126,\n",
              "       10058.45263454, 10667.20353435,  6321.14646409, 22062.74071866,\n",
              "        8726.51009828,  5751.19264255, 15163.91723186, 11812.55259009,\n",
              "       10249.54233045,  5446.47222957, 16104.76181915, 14962.43525104,\n",
              "       12965.41586214, 18812.84992469, 16406.55183168, 14521.80934864,\n",
              "       11804.57898551,  9964.75616701, 13794.08393257, 16191.31565293,\n",
              "        8538.7375519 , 16351.16076065, 11486.9360989 , 19394.54637381,\n",
              "       15418.07248948, 11672.03289394, 10386.89349128, 20097.4421708 ,\n",
              "        7632.21735792,  9425.40389218,  9525.89323994, 18000.96239511,\n",
              "        9462.76798491, 18856.29302785,  7948.50728138, 13714.21354742,\n",
              "       13427.95702159, 10503.00275444, 11279.16425008, 20346.25909898,\n",
              "       15774.26971772, 10474.51847392, 14922.51224912,  9472.06711572,\n",
              "       15224.87293455, 13954.48172933, 13995.83755517, 13780.41987113,\n",
              "       18859.01479979,  7628.04322859, 13010.64754674, 14951.68147325,\n",
              "       12746.60279003,  8874.26019094, 11132.47160164, 10052.86071113,\n",
              "       18054.41204503,  7647.59770881, 15436.13935011,  8210.4257688 ,\n",
              "       16772.51837235, 14726.15285691, 16087.9558851 , 16284.79123309,\n",
              "       19337.29766361, 12727.21965376, 17496.78974145, 14919.30791059,\n",
              "       10718.50111097,  7933.86167321, 16328.91856354, 12662.24386587,\n",
              "       19492.01967662, 12893.84744482, 18454.929331  , 13025.56590093,\n",
              "        9148.7778864 , 12016.51946284,  9571.71082011,  7702.54852137,\n",
              "        8930.80593805,  9104.30624617,  9486.74255549,  8206.80279387,\n",
              "       13730.68131612, 13182.49811354,  6424.98757137, 10904.66463621,\n",
              "       13266.00748661, 12042.19150692, 15109.09905378, 16914.93356492,\n",
              "       23423.44795923, 11722.45525224, 11944.15514753, 12980.49676749,\n",
              "       11879.71007813,  6865.38150764, 14908.01419117, 15600.71619265,\n",
              "       16559.29319939, 16697.19183416, 19258.92352154,  4442.31267069,\n",
              "       20362.58042756, 21729.22774121, 17320.45754027, 16413.8862573 ,\n",
              "        5289.04565143, 19800.82561418, 14001.88635241, 15066.3822036 ,\n",
              "        6631.05817028,  7663.23633109,  5233.5748519 ,  8518.3220959 ,\n",
              "       15676.52822163, 10937.64282067, 14525.92250663,  9929.32032921,\n",
              "        7705.71964585,  8007.53090588,  2194.31274667, 14957.68561977,\n",
              "       19157.58218809, 13101.14484078, 19001.32870245,  7545.27432204,\n",
              "        9735.8630406 , 10021.8945158 , 14137.62833503, 18467.57120171,\n",
              "       11902.73162896,  6605.59145528, 11908.28650553, 16792.295659  ,\n",
              "       17269.71736477, 14856.34544412,  8515.69367439, 15440.77961071,\n",
              "       23935.90141144, 14908.05851601,  8506.80413789, 11767.49400037,\n",
              "        8600.00656577,  7559.9554669 , 14988.36303264, 19481.24486439,\n",
              "       20005.89665669, 13243.03742949, 18971.58082665,  7873.91705631,\n",
              "       12440.96004022, 20236.38474505, 14963.39541993,  5937.4227272 ,\n",
              "       13719.74027469, 15974.58774879, 14470.29908044,  4898.46265823])"
            ]
          },
          "metadata": {},
          "execution_count": 38
        }
      ]
    },
    {
      "cell_type": "code",
      "source": [
        "predict_test_poly = model.predict(x_test_poly)\n",
        "predict_test_poly"
      ],
      "metadata": {
        "colab": {
          "base_uri": "https://localhost:8080/"
        },
        "id": "XF4LIEZRKFM8",
        "outputId": "5d5bc992-f189-4a25-8a24-66ac1967d420"
      },
      "execution_count": null,
      "outputs": [
        {
          "output_type": "execute_result",
          "data": {
            "text/plain": [
              "array([11689.17023208,  9523.31945884, 12302.77022272,  8001.26504629,\n",
              "        6767.46496861, 20870.81069979, 18769.88757031,  9032.88203844,\n",
              "       10337.36019024, 18562.0438998 , 18202.47588021, 10480.37218279,\n",
              "       15573.10158191,  8530.81242981, 14724.64751907, 14327.51538832,\n",
              "       14903.46411833, 13519.30039173, 11649.34314497, 22227.02398812,\n",
              "       20324.77652674,  7946.84873602,  9206.63187509, 13894.4258703 ,\n",
              "       18045.5938519 , 12746.35186664, 10060.74667857, 22181.13868637,\n",
              "       12731.84840841, 18066.10304337, 18582.37486001,  8584.27494185,\n",
              "       21585.11293176,  8193.97765917, 13191.45076586, 18268.51579097,\n",
              "       13947.26107576, 12915.98514435,  9073.84549913, 21691.76808776,\n",
              "       12095.68982447, 16175.13182751,  9511.60656139, 14375.70759069,\n",
              "        5549.71614905,  8685.98615165,  9297.31716072,  9928.13276176,\n",
              "       10967.22751092, 12731.15935066, 23547.17355047, 10519.47834617,\n",
              "        9661.04746577, 12051.06543069, 11597.92418482, 18528.67628377,\n",
              "       17697.20378223, 13191.15478585, 13748.99253685, 17318.77737357,\n",
              "        9695.23741556,  9173.24747328, 11070.90617244, 13168.14488414,\n",
              "       19532.02727587,  7050.642734  ,  7990.1362758 , 13788.91211701,\n",
              "       15897.3027426 , 14666.38779168, 14552.76488861,  8375.56527216,\n",
              "       16832.00099633,  8950.64652411, 14915.65197215,  5650.17684877,\n",
              "       15647.15373484, 15403.61398622, 20143.72099266, 15343.76032825,\n",
              "        8936.22631832, 11768.5248592 , 13952.11316091,  9616.24244947,\n",
              "        9522.14484808, 17525.26088872, 17147.91387715, 13796.12623023,\n",
              "        7132.23118431, 13722.85586377,  8210.62995441, 13432.73104297,\n",
              "       12501.27444636,  6506.06858813,  9882.40209815, 12067.31904441,\n",
              "       17900.95190099, 14099.08945543,  7275.61872895,  4496.85111873,\n",
              "       10027.22376334, 11258.51838447, 15469.07224352, 12173.08780124,\n",
              "       12534.66806451, 19527.01216905, 11833.08982002, 10290.3546638 ,\n",
              "       20477.84496393,  8875.15183134, 17244.18797789,  9812.10515536,\n",
              "       16565.40441907, 15370.93939036, 11679.53790464, 18486.40202924,\n",
              "        8535.22424254, 21372.38533226, 13795.27940713, 12286.96897003,\n",
              "       11370.47331034, 11445.12899089, 20192.41048821, 17575.11784371,\n",
              "       16591.96192313, 15383.91690881, 16042.61658601,  8214.199714  ,\n",
              "        9010.30136255, 16056.37941715, 11824.09300407, 14484.84143975,\n",
              "       10221.03881379, 16882.99516599,  9162.19742339, 10049.17024824,\n",
              "       16058.51376801, 12951.95693997,  8245.47165396, 13851.41223033,\n",
              "       16409.40127562,  8391.10468155, 10204.78114889, 14208.84325302,\n",
              "       10587.28848619, 16170.46522834, 18214.20760883, 10274.47031311,\n",
              "       16700.74401405, 13719.43902722, 17786.60448027,  6383.11444122,\n",
              "       10210.81333132, 13528.58155645, 15665.60515805, 14421.02434348,\n",
              "       12309.30590527, 15224.86272073, 17002.94594794,  7513.29111461,\n",
              "       18435.05477715,  9050.61024476, 13422.58002443, 15954.49952866,\n",
              "       11746.45556814, 18308.6002364 ,  7457.30795983, 14941.8948273 ,\n",
              "       22237.77323793, 17852.12335248, 21260.9654925 ,  8352.45028284,\n",
              "       10032.05426843,  7668.2119861 , 11075.01785039, 10531.78727465,\n",
              "        9370.39997906, 12714.28804982, 20752.14512245,  7371.3365527 ,\n",
              "       13949.85084067,  8085.32257544,  9221.26393942, 18546.18088467,\n",
              "        9811.02473957,  8077.18655299,  9133.36386374, 19968.49016529,\n",
              "       12941.4020241 , 21261.85182384,  3517.79113615, 13589.90093901,\n",
              "        9394.28021705, 13571.05209815, 12401.78332133, 11123.77826726,\n",
              "       17033.81087917,  2967.18240532, 14788.59921612, 15421.84209764,\n",
              "        9754.58473794, 11207.76689374,  7523.67621481, 14107.7158858 ,\n",
              "       20527.4346252 , 20166.20387   , 12521.67273133, 17624.78165109,\n",
              "        4837.58521343, 13532.04404837, 15838.93429964, 10824.86382568,\n",
              "        5672.59454561, 17646.8001786 , 17323.87951373, 11258.10557922,\n",
              "       15295.80684941, 12423.0702958 ,  8825.1876368 ,  7604.35859843,\n",
              "       20192.24472949, 19888.42396428, 13672.58249186, 12512.7379473 ,\n",
              "       15318.11712403, 19530.63310984, 12074.48310891,  7334.90352276,\n",
              "       21785.62441285, 12978.13086355, 17199.49408813, 14334.76215984,\n",
              "       18687.11436906, 12899.7471732 ,  6192.03134697, 13263.16574345,\n",
              "       10176.33311564, 11371.71141819, 19112.02698428, 11961.2586302 ,\n",
              "       12609.6126191 ,  6268.79106619,  6198.77238847, 15828.79368937,\n",
              "       10629.56821793, 11385.20784046,  8862.49903458, 21623.88729853,\n",
              "        8493.2858461 , 12761.24358386, 10453.96386628, 11473.47622778,\n",
              "       10431.38899885, 15931.64340686, 19175.96917216,  6573.83339417,\n",
              "       11466.98536807, 14883.18662358, 10018.45858787, 12319.15343273,\n",
              "        6544.52476518, 14580.18776916, 12206.44606255, 10657.54142251,\n",
              "        5645.73132211, 19351.77711029, 14706.62245654, 15492.34861307,\n",
              "        6703.9694945 , 16812.12662854, 19284.76986303, 15167.71477643,\n",
              "       16695.91653004, 17149.88901246, 15536.94184901, 15994.26835692,\n",
              "        8326.96614261, 11827.23872681,  7608.76102922, 15190.42212329,\n",
              "       10667.34773083, 13748.30057971,  9614.51944442, 12171.97477184,\n",
              "        8826.34055237,  5897.43739146, 13903.22222473,  8816.11851815,\n",
              "       11058.20448333, 19126.7078573 , 17797.58843665, 10958.12336895,\n",
              "       10503.49296863, 14684.08970679,  9634.37329598, 18367.11813285,\n",
              "       10762.35627672, 17628.3765951 , 15254.22620802, 16170.13313653,\n",
              "       10695.5930317 ,  5672.85920483, 15961.30883249, 10756.68148356,\n",
              "       16600.98959298, 13854.69593048, 12028.10917035, 13097.88765677,\n",
              "       18218.54541073,  9593.96085205, 19399.7918906 , 13014.37011947,\n",
              "       18350.86181267,  9217.91510762, 20396.91522253, 14587.21060054,\n",
              "       15718.37938614, 12696.27474715, 20550.61268312, 11732.36182086,\n",
              "        4676.79303328, 21289.29415206, 10873.23101062, 15235.44133089,\n",
              "       17995.92190163, 20648.1221976 , 10296.86039602,  9745.08164208,\n",
              "       12316.79496373, 18620.22763554, 15345.05584268,  9240.70750564,\n",
              "        8581.65751987, 16110.48372898, 16979.92068918,  8619.92152336,\n",
              "        8878.88206508, 14502.67191868, 17315.1294575 , 12321.13008619,\n",
              "       10930.70127676, 19401.6947318 ,  7043.80524297, 15168.93317253,\n",
              "       15772.65304558,  7834.2467366 , 11810.69456877, 10235.45657299,\n",
              "       20518.67751509, 10845.79010579,  9199.71497808, 19469.32185246,\n",
              "       10726.74063745, 11505.29459867, 11324.44684386, 10287.63424012,\n",
              "       12803.87211961, 13789.28733631,  7111.5908668 ,  8641.07672718,\n",
              "        4648.55564172, 23183.05014002,  7682.94451812, 10271.04160666,\n",
              "       19625.11728562, 21486.39990497, 14293.28078771,  9026.11454729,\n",
              "       13945.28653678, 13425.152344  ,  9270.77597548,  6512.92156546,\n",
              "        9186.52865212,  5913.40490311, 17979.91762989, 12888.14391081,\n",
              "       10515.21067632, 11790.14436578, 12765.51427433, 16459.14386944,\n",
              "        7735.99721921,  4875.14481909, 14107.6256476 , 14796.73788623,\n",
              "       12338.57506233, 10481.39696516, 11332.47974125, 20455.53654805,\n",
              "       10062.36992151, 20395.15045254,  3266.53522384, 10609.2974074 ,\n",
              "       13668.61680244, 15888.2493192 , 13866.65935272, 12501.51876777,\n",
              "       14572.98840185, 10895.10638164, 12399.32040345,  9542.81152542,\n",
              "       10703.01621888, 12721.26690251])"
            ]
          },
          "metadata": {},
          "execution_count": 39
        }
      ]
    },
    {
      "cell_type": "code",
      "source": [
        "print(X_train.shape)\n",
        "print(Y_train.shape)"
      ],
      "metadata": {
        "colab": {
          "base_uri": "https://localhost:8080/"
        },
        "id": "b3nuCpu5KLJC",
        "outputId": "68458832-65b9-44fa-bdd5-1cef3417d241"
      },
      "execution_count": null,
      "outputs": [
        {
          "output_type": "stream",
          "name": "stdout",
          "text": [
            "(936, 4)\n",
            "(936,)\n"
          ]
        }
      ]
    },
    {
      "cell_type": "code",
      "source": [
        "ax = plt.scatter(x = X_train['age'], y = Y_train, color = 'DarkBlue')\n",
        "plt.plot(X_train['age'], predict_train_poly, color = 'blue')\n",
        "plt.show()"
      ],
      "metadata": {
        "colab": {
          "base_uri": "https://localhost:8080/",
          "height": 430
        },
        "id": "m5iJo-R-Ka8z",
        "outputId": "32bbd3a6-6b19-463b-bb98-22081aeb444d"
      },
      "execution_count": null,
      "outputs": [
        {
          "output_type": "display_data",
          "data": {
            "text/plain": [
              "<Figure size 640x480 with 1 Axes>"
            ],
            "image/png": "[encoded data removed]"
          },
          "metadata": {}
        }
      ]
    },
    {
      "cell_type": "code",
      "source": [
        "train_accuracy = model.score(x_train_poly, Y_train)\n",
        "train_accuracy"
      ],
      "metadata": {
        "colab": {
          "base_uri": "https://localhost:8080/"
        },
        "id": "m1om0JtmKumc",
        "outputId": "7aa3f371-340d-4907-8751-e82e0407a2b4"
      },
      "execution_count": null,
      "outputs": [
        {
          "output_type": "execute_result",
          "data": {
            "text/plain": [
              "0.13824054148969722"
            ]
          },
          "metadata": {},
          "execution_count": 43
        }
      ]
    },
    {
      "cell_type": "code",
      "source": [
        "test_accuracy = model.score(x_test_poly, Y_test)\n",
        "test_accuracy"
      ],
      "metadata": {
        "colab": {
          "base_uri": "https://localhost:8080/"
        },
        "id": "pI-JKOE7K5Og",
        "outputId": "d65cb5c0-96b1-40fd-8738-7cf1254bcb9b"
      },
      "execution_count": null,
      "outputs": [
        {
          "output_type": "execute_result",
          "data": {
            "text/plain": [
              "0.10531061237210604"
            ]
          },
          "metadata": {},
          "execution_count": 44
        }
      ]
    },
    {
      "cell_type": "code",
      "source": [
        "print('Mean absolute error = ', mean_absolute_error(Y_test,predict_test_poly))\n",
        "print('Mean square error = ', mean_squared_error(Y_test,predict_test_poly))\n",
        "print('R2 Score = ', r2_score(Y_test,predict_test_poly))"
      ],
      "metadata": {
        "colab": {
          "base_uri": "https://localhost:8080/"
        },
        "id": "CzcFlEAqLCER",
        "outputId": "6136df45-0d33-4117-8228-59742c714d12"
      },
      "execution_count": null,
      "outputs": [
        {
          "output_type": "stream",
          "name": "stdout",
          "text": [
            "Mean absolute error =  8874.124489883648\n",
            "Mean square error =  129906832.25132944\n",
            "R2 Score =  0.10531061237210604\n"
          ]
        }
      ]
    }
  ]
}