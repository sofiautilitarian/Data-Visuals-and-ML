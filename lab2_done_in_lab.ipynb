{
  "nbformat": 4,
  "nbformat_minor": 0,
  "metadata": {
    "colab": {
      "provenance": []
    },
    "kernelspec": {
      "name": "python3",
      "display_name": "Python 3"
    },
    "language_info": {
      "name": "python"
    }
  },
  "cells": [
    {
      "cell_type": "code",
      "execution_count": null,
      "metadata": {
        "colab": {
          "base_uri": "https://localhost:8080/"
        },
        "id": "-yOuL8l1L6py",
        "outputId": "b477d07b-83eb-4711-bcb7-a061e1092c74"
      },
      "outputs": [
        {
          "output_type": "execute_result",
          "data": {
            "text/plain": [
              "[86, 48, 14, 55, 10, 20, 52, 30, 13, 13, 17, 62, 1, 81, 100, 95, 2, 90, 63, 84]"
            ]
          },
          "metadata": {},
          "execution_count": 12
        }
      ],
      "source": [
        "import random\n",
        "list = []\n",
        "k = 0\n",
        "for i in range (20):\n",
        "  list.append(random.randint(1, 100))\n",
        "list"
      ]
    },
    {
      "cell_type": "code",
      "source": [
        "def findMax(array):\n",
        "  k = list[0]\n",
        "  for i in array:\n",
        "    if (i>k):\n",
        "      k = i\n",
        "  return k\n",
        "\n",
        "\n"
      ],
      "metadata": {
        "id": "Dl52IuxXNGSc"
      },
      "execution_count": null,
      "outputs": []
    },
    {
      "cell_type": "code",
      "source": [
        "findMax(list)"
      ],
      "metadata": {
        "colab": {
          "base_uri": "https://localhost:8080/"
        },
        "id": "0EMGDnK4PPhL",
        "outputId": "d9247215-3d70-49e4-929a-1371e1dfa64c"
      },
      "execution_count": null,
      "outputs": [
        {
          "output_type": "execute_result",
          "data": {
            "text/plain": [
              "100"
            ]
          },
          "metadata": {},
          "execution_count": 15
        }
      ]
    },
    {
      "cell_type": "code",
      "source": [
        "def findMin(array):\n",
        "  k = array[len(array)-1]\n",
        "  for i in array:\n",
        "    if (i<k):\n",
        "      k = i\n",
        "  return k\n",
        "\n",
        "\n"
      ],
      "metadata": {
        "id": "gGILa7BoQATj"
      },
      "execution_count": null,
      "outputs": []
    },
    {
      "cell_type": "code",
      "source": [
        "findMin(list)"
      ],
      "metadata": {
        "colab": {
          "base_uri": "https://localhost:8080/"
        },
        "id": "k3VjLLOMOpV8",
        "outputId": "0ef23265-f8fa-484a-89a5-f1b1ce245d00"
      },
      "execution_count": null,
      "outputs": [
        {
          "output_type": "execute_result",
          "data": {
            "text/plain": [
              "1"
            ]
          },
          "metadata": {},
          "execution_count": 13
        }
      ]
    },
    {
      "cell_type": "code",
      "source": [
        "def linearSearch(array, value):\n",
        "  '''do nothing'''\n",
        "  pos = 0\n",
        "  for i in array:\n",
        "    pos += 1\n",
        "    if (i==value):\n",
        "      return \"Value has been found in\"+\" \"+str(pos)+\" position\"\n",
        "  return -1"
      ],
      "metadata": {
        "id": "oftvR7xfQvHz"
      },
      "execution_count": null,
      "outputs": []
    },
    {
      "cell_type": "code",
      "source": [
        "linearSearch(list, 21)"
      ],
      "metadata": {
        "colab": {
          "base_uri": "https://localhost:8080/"
        },
        "id": "Fgwna6NDSrz8",
        "outputId": "c4116308-c030-4b8d-ff98-abe1653cb404"
      },
      "execution_count": null,
      "outputs": [
        {
          "output_type": "execute_result",
          "data": {
            "text/plain": [
              "-1"
            ]
          },
          "metadata": {},
          "execution_count": 29
        }
      ]
    },
    {
      "cell_type": "code",
      "source": [
        "def bubbleSort(list):\n",
        "\n",
        "  i = 0\n",
        "  j = 0\n",
        "  temp = 0\n",
        "  for i in range(19):\n",
        "    for j in range(19):\n",
        "      if (list[j]>list[j+1]):\n",
        "        temp = list[j]\n",
        "        list[j] = list[j+1]\n",
        "        list[j+1] = temp\n",
        "  return list"
      ],
      "metadata": {
        "id": "i_l_SylXZwuM"
      },
      "execution_count": null,
      "outputs": []
    },
    {
      "cell_type": "code",
      "source": [
        "bubbleSort(list)"
      ],
      "metadata": {
        "colab": {
          "base_uri": "https://localhost:8080/"
        },
        "id": "hEN396otc3Ac",
        "outputId": "a471450b-f096-440e-d8fa-336f0793e14f"
      },
      "execution_count": null,
      "outputs": [
        {
          "output_type": "execute_result",
          "data": {
            "text/plain": [
              "[1, 2, 10, 13, 13, 14, 17, 20, 30, 48, 52, 55, 62, 63, 81, 84, 86, 90, 95, 100]"
            ]
          },
          "metadata": {},
          "execution_count": 31
        }
      ]
    },
    {
      "cell_type": "code",
      "source": [
        "def binarySearch(A, x):\n",
        "  n = len(A)\n",
        "  beg = 0\n",
        "  end = n-1\n",
        "  mid = -1\n",
        "\n",
        "  while(beg<=end):\n",
        "    mid = (beg+end)//2\n",
        "    if(A[mid]<x):\n",
        "      beg=mid+1\n",
        "    elif (A[mid]>x):\n",
        "      end = mid-1\n",
        "    else:\n",
        "      return mid\n"
      ],
      "metadata": {
        "id": "vppGC7LZVLcm"
      },
      "execution_count": null,
      "outputs": []
    },
    {
      "cell_type": "code",
      "source": [
        "list[2]"
      ],
      "metadata": {
        "colab": {
          "base_uri": "https://localhost:8080/"
        },
        "id": "tq5u2VFmXoM8",
        "outputId": "8befde12-9883-4026-b336-a24608ef483e"
      },
      "execution_count": null,
      "outputs": [
        {
          "output_type": "execute_result",
          "data": {
            "text/plain": [
              "10"
            ]
          },
          "metadata": {},
          "execution_count": 34
        }
      ]
    },
    {
      "cell_type": "code",
      "source": [
        "binarySearch(list, 10)"
      ],
      "metadata": {
        "colab": {
          "base_uri": "https://localhost:8080/"
        },
        "id": "jwUbYsF3X85c",
        "outputId": "0cd5c0a6-e189-4d35-9181-4ce205fe7592"
      },
      "execution_count": null,
      "outputs": [
        {
          "output_type": "execute_result",
          "data": {
            "text/plain": [
              "5"
            ]
          },
          "metadata": {},
          "execution_count": 56
        }
      ]
    },
    {
      "cell_type": "code",
      "source": [
        "import random\n",
        "randomList = []\n",
        "for i in range (20):\n",
        "  a = random.randint(1, 100)\n",
        "  randomList.append(a)"
      ],
      "metadata": {
        "id": "i5IgUj6vh4mW"
      },
      "execution_count": null,
      "outputs": []
    },
    {
      "cell_type": "code",
      "source": [
        "randomList"
      ],
      "metadata": {
        "colab": {
          "base_uri": "https://localhost:8080/"
        },
        "id": "0DZjYNBgiOBu",
        "outputId": "fd6773a8-ef71-4088-8cd0-f1bf0c647431"
      },
      "execution_count": null,
      "outputs": [
        {
          "output_type": "execute_result",
          "data": {
            "text/plain": [
              "[95, 6, 84, 87, 35, 27, 30, 17, 39, 56, 9, 18, 20, 86, 53, 83, 95, 5, 30, 5]"
            ]
          },
          "metadata": {},
          "execution_count": 58
        }
      ]
    },
    {
      "cell_type": "code",
      "source": [
        "def linearSearch(array, value):\n",
        "  count = -1\n",
        "  for i in array:\n",
        "    count = count+1\n",
        "    if i == value:\n",
        "      return count\n",
        "  return -1"
      ],
      "metadata": {
        "id": "zoUZfDwLi0hO"
      },
      "execution_count": null,
      "outputs": []
    },
    {
      "cell_type": "code",
      "source": [
        "myMatrix =[[1,2,3], [4, 5, 6], [7,8,9]]\n",
        "myMatrix"
      ],
      "metadata": {
        "colab": {
          "base_uri": "https://localhost:8080/"
        },
        "id": "3shfXrn3joJe",
        "outputId": "79ec6ecb-ea96-435c-92ce-8c57659cc281"
      },
      "execution_count": null,
      "outputs": [
        {
          "output_type": "execute_result",
          "data": {
            "text/plain": [
              "[[1, 2, 3], [4, 5, 6], [7, 8, 9]]"
            ]
          },
          "metadata": {},
          "execution_count": 22
        }
      ]
    },
    {
      "cell_type": "code",
      "source": [
        "def printMatrix(M):\n",
        "  for i in range(len(M)):\n",
        "    for j in range(len(M[0])):\n",
        "     print(M[i][j], end = \" \")\n",
        "    print()"
      ],
      "metadata": {
        "id": "vPuDytVNj8--"
      },
      "execution_count": null,
      "outputs": []
    },
    {
      "cell_type": "code",
      "source": [
        "printMatrix(myMatrix)"
      ],
      "metadata": {
        "colab": {
          "base_uri": "https://localhost:8080/"
        },
        "id": "MQKf1ssgkyl2",
        "outputId": "bbe69cd0-7ef8-42c0-a681-3f7f371aac1e"
      },
      "execution_count": null,
      "outputs": [
        {
          "output_type": "stream",
          "name": "stdout",
          "text": [
            "1 2 3 \n",
            "4 5 6 \n",
            "7 8 9 \n"
          ]
        }
      ]
    },
    {
      "cell_type": "code",
      "source": [
        "def mean (list):\n",
        "  for i in list:\n",
        "    sum+=i\n",
        "  return sum/len(list)"
      ],
      "metadata": {
        "id": "24khmP8TvHYA"
      },
      "execution_count": null,
      "outputs": []
    },
    {
      "cell_type": "code",
      "source": [
        "#New code\n",
        "#Done by Sofia [2:37PM, 6/18/2023]\n",
        "\n",
        "def matrixAdd(A, B):\n",
        "  result =[[0, 0, 0], [0, 0, 0], [0, 0, 0]]\n",
        "  for i in range(len(A)):\n",
        "    for j in range(len(A[0])):\n",
        "      result[i][j] = A[i][j] + B[i][j]\n",
        "\n",
        "  return (result)\n"
      ],
      "metadata": {
        "id": "Lmu8lgwUpuid"
      },
      "execution_count": null,
      "outputs": []
    },
    {
      "cell_type": "code",
      "source": [
        "matrixA = [[1,2,3], [4,5, 6], [7,8,9]]\n",
        "matrixB = [[1,1,1], [1,1,1], [1,1,1]]\n",
        "print(\"Result of matrix addition: \", matrixAdd(matrixA, matrixB))"
      ],
      "metadata": {
        "colab": {
          "base_uri": "https://localhost:8080/"
        },
        "id": "wtvlAvdHrkaz",
        "outputId": "7ba16854-424f-4807-d614-7d1094af41bb"
      },
      "execution_count": null,
      "outputs": [
        {
          "output_type": "stream",
          "name": "stdout",
          "text": [
            "Result of matrix addition:  [[2, 3, 4], [5, 6, 7], [8, 9, 10]]\n"
          ]
        }
      ]
    },
    {
      "cell_type": "code",
      "source": [
        "#New code\n",
        "#Done by Sofia [2:52PM, 6/18/2023]\n",
        "\n",
        "def matrixSub(A, B):\n",
        "  result =[[0, 0, 0], [0, 0, 0], [0, 0, 0]]\n",
        "  for i in range(len(A)):\n",
        "    for j in range(len(A[0])):\n",
        "      result[i][j] = A[i][j] - B[i][j]\n",
        "\n",
        "  return (result)\n"
      ],
      "metadata": {
        "id": "bFYDFL6Gs3xu"
      },
      "execution_count": null,
      "outputs": []
    },
    {
      "cell_type": "code",
      "source": [
        "matrixA = [[1,2,3], [4,5, 6], [7,8,9]]\n",
        "matrixB = [[1,1,1], [1,1,1], [1,1,1]]\n",
        "print(\"Result of matrix subtraction: \", matrixSub(matrixA, matrixB))"
      ],
      "metadata": {
        "colab": {
          "base_uri": "https://localhost:8080/"
        },
        "outputId": "0ad7f80b-091a-4ff6-f40d-bab5c087c83a",
        "id": "l8uI02uRtSWg"
      },
      "execution_count": null,
      "outputs": [
        {
          "output_type": "stream",
          "name": "stdout",
          "text": [
            "Result of matrix subtraction:  [[0, 1, 2], [3, 4, 5], [6, 7, 8]]\n"
          ]
        }
      ]
    },
    {
      "cell_type": "code",
      "source": [
        "#New code\n",
        "#Done by Sofia [2:52PM, 6/18/2023]\n",
        "\n",
        "def matrixMul(A, B):\n",
        "  if (len(A[0])==len(B)):\n",
        "   result =[[0, 0, 0], [0, 0, 0], [0, 0, 0]]\n",
        "   for i in range(len(A)):\n",
        "     for j in range(len(A[0])):\n",
        "        for k in range (len(A)):\n",
        "          result[i][j] += A[i][k] * B[k][j]\n",
        "   return (result)\n",
        "\n",
        "  else:\n",
        "    return -1"
      ],
      "metadata": {
        "id": "pJbBqitNtmG4"
      },
      "execution_count": null,
      "outputs": []
    },
    {
      "cell_type": "code",
      "source": [
        "matrixA = [[1,2,3], [4,5, 6], [7,8,9]]\n",
        "matrixB = [[1,1,1], [1,1,1], [1,1,1]]\n",
        "print(\"Result of matrix multiplication: \", matrixMul(matrixA, matrixB))"
      ],
      "metadata": {
        "colab": {
          "base_uri": "https://localhost:8080/"
        },
        "id": "JPz7j94RuMS8",
        "outputId": "1720a995-3d50-4678-e4ee-9355b2316270"
      },
      "execution_count": null,
      "outputs": [
        {
          "output_type": "stream",
          "name": "stdout",
          "text": [
            "Result of matrix multiplication:  [[6, 6, 6], [15, 15, 15], [24, 24, 24]]\n"
          ]
        }
      ]
    },
    {
      "cell_type": "code",
      "source": [
        "Steven_Smith = [76, 13, 20, 14, 105, 104, 7, 53, 28, 48, 47, 1, 1, 61, 105, 80, 94, 21, 22, 0]\n",
        "'''should return 20'''\n",
        "print(len(Steven_Smith))\n",
        "\n",
        "'''printing Avg'''\n",
        "AverageScoreofStevenSmith = 0\n",
        "for i in Steven_Smith:\n",
        "  AverageScoreofStevenSmith += i\n",
        "AverageScoreofStevenSmith /= 20\n",
        "print(AverageScoreofStevenSmith)\n",
        "\n",
        "'''Calculating the variance'''\n",
        "sum = 0\n",
        "for i in Steven_Smith:\n",
        "  just = i - AverageScoreofStevenSmith\n",
        "  square = just*just\n",
        "  sum += square\n",
        "variance = sum/19\n",
        "variance\n",
        "\n",
        "import matplotlib.pyplot as plt\n",
        "plt.plot(Steven_Smith, 'o')\n",
        "plt.hlines(AverageScoreofStevenSmith, findMin(Steven_Smith), findMax(Steven_Smith), linestyles = \"dashed\")\n",
        "plt.hlines(variance, findMin(Steven_Smith), findMax(Steven_Smith), linestyles = \"dashed\")"
      ],
      "metadata": {
        "colab": {
          "base_uri": "https://localhost:8080/",
          "height": 482
        },
        "id": "-oz7fW0KRWCX",
        "outputId": "43ef9c9a-371d-4ee6-c281-b40fabc23ddc"
      },
      "execution_count": null,
      "outputs": [
        {
          "output_type": "stream",
          "name": "stdout",
          "text": [
            "20\n",
            "45.0\n"
          ]
        },
        {
          "output_type": "execute_result",
          "data": {
            "text/plain": [
              "<matplotlib.collections.LineCollection at 0x7f3fba6dee60>"
            ]
          },
          "metadata": {},
          "execution_count": 16
        },
        {
          "output_type": "display_data",
          "data": {
            "text/plain": [
              "<Figure size 640x480 with 1 Axes>"
            ],
            "image/png": "[encoded data removed]"
          },
          "metadata": {}
        }
      ]
    }
  ]
}